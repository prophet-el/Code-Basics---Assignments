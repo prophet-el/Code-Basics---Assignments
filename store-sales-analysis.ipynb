{
 "cells": [
  {
   "cell_type": "markdown",
   "id": "03bf30c5",
   "metadata": {
    "papermill": {
     "duration": 0.012932,
     "end_time": "2023-06-01T14:21:11.915508",
     "exception": false,
     "start_time": "2023-06-01T14:21:11.902576",
     "status": "completed"
    },
    "tags": []
   },
   "source": [
    "## Sales Analysis"
   ]
  },
  {
   "cell_type": "code",
   "execution_count": 1,
   "id": "2a97fa8f",
   "metadata": {
    "execution": {
     "iopub.execute_input": "2023-06-01T14:21:11.942384Z",
     "iopub.status.busy": "2023-06-01T14:21:11.942014Z",
     "iopub.status.idle": "2023-06-01T14:21:13.479639Z",
     "shell.execute_reply": "2023-06-01T14:21:13.477950Z"
    },
    "papermill": {
     "duration": 1.554434,
     "end_time": "2023-06-01T14:21:13.482475",
     "exception": false,
     "start_time": "2023-06-01T14:21:11.928041",
     "status": "completed"
    },
    "tags": []
   },
   "outputs": [],
   "source": [
    "# Import neccessary libraries \n",
    "\n",
    "import pandas as pd\n",
    "import numpy as np \n",
    "import matplotlib.pyplot as plt \n",
    "import seaborn as sns\n",
    "import os"
   ]
  },
  {
   "cell_type": "code",
   "execution_count": 2,
   "id": "6dcd0e41",
   "metadata": {
    "execution": {
     "iopub.execute_input": "2023-06-01T14:21:13.513327Z",
     "iopub.status.busy": "2023-06-01T14:21:13.512661Z",
     "iopub.status.idle": "2023-06-01T14:21:13.523284Z",
     "shell.execute_reply": "2023-06-01T14:21:13.521509Z"
    },
    "papermill": {
     "duration": 0.029302,
     "end_time": "2023-06-01T14:21:13.526541",
     "exception": false,
     "start_time": "2023-06-01T14:21:13.497239",
     "status": "completed"
    },
    "tags": []
   },
   "outputs": [
    {
     "name": "stdout",
     "output_type": "stream",
     "text": [
      "['Sales_Data']\n"
     ]
    }
   ],
   "source": [
    "print(os.listdir(\"../input/electronic-store-sales-data\"))\n"
   ]
  },
  {
   "cell_type": "code",
   "execution_count": 3,
   "id": "15f29001",
   "metadata": {
    "execution": {
     "iopub.execute_input": "2023-06-01T14:21:13.557198Z",
     "iopub.status.busy": "2023-06-01T14:21:13.556325Z",
     "iopub.status.idle": "2023-06-01T14:21:15.839825Z",
     "shell.execute_reply": "2023-06-01T14:21:15.838726Z"
    },
    "papermill": {
     "duration": 2.301335,
     "end_time": "2023-06-01T14:21:15.841990",
     "exception": false,
     "start_time": "2023-06-01T14:21:13.540655",
     "status": "completed"
    },
    "tags": []
   },
   "outputs": [],
   "source": [
    "# Merge all 12 months of data in a single csv file\n",
    "\n",
    "# List Comprehension to read through all files in the directory\n",
    "files = [file for file in os.listdir('/kaggle/input/electronic-store-sales-data/Sales_Data')]\n",
    "\n",
    "# Creating an empty dataframe to store the new concatenated dataframe\n",
    "all_months_data = pd.DataFrame()\n",
    "\n",
    "# Concatenate while reading through files in the directory \n",
    "for file in files:\n",
    "    df = pd.read_csv('/kaggle/input/electronic-store-sales-data/Sales_Data/' + file)\n",
    "    all_months_data = pd.concat([all_months_data, df])\n",
    "\n",
    "# Save the DataFrame in a new csv file    \n",
    "all_months_data.to_csv('merged_sales_data.csv', index = False)\n"
   ]
  },
  {
   "cell_type": "code",
   "execution_count": 4,
   "id": "6bc42948",
   "metadata": {
    "execution": {
     "iopub.execute_input": "2023-06-01T14:21:15.869039Z",
     "iopub.status.busy": "2023-06-01T14:21:15.868683Z",
     "iopub.status.idle": "2023-06-01T14:21:16.238632Z",
     "shell.execute_reply": "2023-06-01T14:21:16.237271Z"
    },
    "papermill": {
     "duration": 0.386491,
     "end_time": "2023-06-01T14:21:16.241303",
     "exception": false,
     "start_time": "2023-06-01T14:21:15.854812",
     "status": "completed"
    },
    "tags": []
   },
   "outputs": [
    {
     "data": {
      "text/html": [
       "<div>\n",
       "<style scoped>\n",
       "    .dataframe tbody tr th:only-of-type {\n",
       "        vertical-align: middle;\n",
       "    }\n",
       "\n",
       "    .dataframe tbody tr th {\n",
       "        vertical-align: top;\n",
       "    }\n",
       "\n",
       "    .dataframe thead th {\n",
       "        text-align: right;\n",
       "    }\n",
       "</style>\n",
       "<table border=\"1\" class=\"dataframe\">\n",
       "  <thead>\n",
       "    <tr style=\"text-align: right;\">\n",
       "      <th></th>\n",
       "      <th>Order ID</th>\n",
       "      <th>Product</th>\n",
       "      <th>Quantity Ordered</th>\n",
       "      <th>Price Each</th>\n",
       "      <th>Order Date</th>\n",
       "      <th>Purchase Address</th>\n",
       "    </tr>\n",
       "  </thead>\n",
       "  <tbody>\n",
       "    <tr>\n",
       "      <th>0</th>\n",
       "      <td>295665</td>\n",
       "      <td>Macbook Pro Laptop</td>\n",
       "      <td>1</td>\n",
       "      <td>1700</td>\n",
       "      <td>12/30/19 00:01</td>\n",
       "      <td>136 Church St, New York City, NY 10001</td>\n",
       "    </tr>\n",
       "    <tr>\n",
       "      <th>1</th>\n",
       "      <td>295666</td>\n",
       "      <td>LG Washing Machine</td>\n",
       "      <td>1</td>\n",
       "      <td>600.0</td>\n",
       "      <td>12/29/19 07:03</td>\n",
       "      <td>562 2nd St, New York City, NY 10001</td>\n",
       "    </tr>\n",
       "    <tr>\n",
       "      <th>2</th>\n",
       "      <td>295667</td>\n",
       "      <td>USB-C Charging Cable</td>\n",
       "      <td>1</td>\n",
       "      <td>11.95</td>\n",
       "      <td>12/12/19 18:21</td>\n",
       "      <td>277 Main St, New York City, NY 10001</td>\n",
       "    </tr>\n",
       "    <tr>\n",
       "      <th>3</th>\n",
       "      <td>295668</td>\n",
       "      <td>27in FHD Monitor</td>\n",
       "      <td>1</td>\n",
       "      <td>149.99</td>\n",
       "      <td>12/22/19 15:13</td>\n",
       "      <td>410 6th St, San Francisco, CA 94016</td>\n",
       "    </tr>\n",
       "    <tr>\n",
       "      <th>4</th>\n",
       "      <td>295669</td>\n",
       "      <td>USB-C Charging Cable</td>\n",
       "      <td>1</td>\n",
       "      <td>11.95</td>\n",
       "      <td>12/18/19 12:38</td>\n",
       "      <td>43 Hill St, Atlanta, GA 30301</td>\n",
       "    </tr>\n",
       "  </tbody>\n",
       "</table>\n",
       "</div>"
      ],
      "text/plain": [
       "  Order ID               Product Quantity Ordered Price Each      Order Date  \\\n",
       "0   295665    Macbook Pro Laptop                1       1700  12/30/19 00:01   \n",
       "1   295666    LG Washing Machine                1      600.0  12/29/19 07:03   \n",
       "2   295667  USB-C Charging Cable                1      11.95  12/12/19 18:21   \n",
       "3   295668      27in FHD Monitor                1     149.99  12/22/19 15:13   \n",
       "4   295669  USB-C Charging Cable                1      11.95  12/18/19 12:38   \n",
       "\n",
       "                         Purchase Address  \n",
       "0  136 Church St, New York City, NY 10001  \n",
       "1     562 2nd St, New York City, NY 10001  \n",
       "2    277 Main St, New York City, NY 10001  \n",
       "3     410 6th St, San Francisco, CA 94016  \n",
       "4           43 Hill St, Atlanta, GA 30301  "
      ]
     },
     "execution_count": 4,
     "metadata": {},
     "output_type": "execute_result"
    }
   ],
   "source": [
    "# Read the new csv file in a new DataFrame \n",
    "sales = pd.read_csv('/kaggle/input/electronic-store-sales-data/Sales_Data/merged_sales_data.csv')\n",
    "\n",
    "# Check the first five rows \n",
    "sales.head()"
   ]
  },
  {
   "cell_type": "code",
   "execution_count": 5,
   "id": "72ee89d7",
   "metadata": {
    "execution": {
     "iopub.execute_input": "2023-06-01T14:21:16.269297Z",
     "iopub.status.busy": "2023-06-01T14:21:16.268876Z",
     "iopub.status.idle": "2023-06-01T14:21:16.444296Z",
     "shell.execute_reply": "2023-06-01T14:21:16.443213Z"
    },
    "papermill": {
     "duration": 0.192044,
     "end_time": "2023-06-01T14:21:16.446579",
     "exception": false,
     "start_time": "2023-06-01T14:21:16.254535",
     "status": "completed"
    },
    "tags": []
   },
   "outputs": [
    {
     "name": "stdout",
     "output_type": "stream",
     "text": [
      "<class 'pandas.core.frame.DataFrame'>\n",
      "RangeIndex: 186850 entries, 0 to 186849\n",
      "Data columns (total 6 columns):\n",
      " #   Column            Non-Null Count   Dtype \n",
      "---  ------            --------------   ----- \n",
      " 0   Order ID          186305 non-null  object\n",
      " 1   Product           186305 non-null  object\n",
      " 2   Quantity Ordered  186305 non-null  object\n",
      " 3   Price Each        186305 non-null  object\n",
      " 4   Order Date        186305 non-null  object\n",
      " 5   Purchase Address  186305 non-null  object\n",
      "dtypes: object(6)\n",
      "memory usage: 8.6+ MB\n"
     ]
    }
   ],
   "source": [
    "# Review the DataFrame\n",
    "\n",
    "# Check for the information of the dataset \n",
    "sales.info()"
   ]
  },
  {
   "cell_type": "markdown",
   "id": "e612a02d",
   "metadata": {
    "papermill": {
     "duration": 0.013433,
     "end_time": "2023-06-01T14:21:16.473751",
     "exception": false,
     "start_time": "2023-06-01T14:21:16.460318",
     "status": "completed"
    },
    "tags": []
   },
   "source": [
    "***All the data types are objects***\n",
    "\n",
    "***Since we would want to perform mathematical operations on the Price column. We should change it to a float value***\n",
    "\n",
    "***Also the Order Date column would be more effective in analysis if we convert it to datetime and use other additional columns for months or even week wise if we want***\n",
    "\n"
   ]
  },
  {
   "cell_type": "markdown",
   "id": "6a3978b2",
   "metadata": {
    "papermill": {
     "duration": 0.013304,
     "end_time": "2023-06-01T14:21:16.500784",
     "exception": false,
     "start_time": "2023-06-01T14:21:16.487480",
     "status": "completed"
    },
    "tags": []
   },
   "source": [
    "### Data Cleaning and Pre-processing"
   ]
  },
  {
   "cell_type": "code",
   "execution_count": 6,
   "id": "ea91c15f",
   "metadata": {
    "execution": {
     "iopub.execute_input": "2023-06-01T14:21:16.529486Z",
     "iopub.status.busy": "2023-06-01T14:21:16.529087Z",
     "iopub.status.idle": "2023-06-01T14:21:16.533930Z",
     "shell.execute_reply": "2023-06-01T14:21:16.532560Z"
    },
    "papermill": {
     "duration": 0.021891,
     "end_time": "2023-06-01T14:21:16.536246",
     "exception": false,
     "start_time": "2023-06-01T14:21:16.514355",
     "status": "completed"
    },
    "tags": []
   },
   "outputs": [],
   "source": [
    "# Convert the 'Order Date' column to datetime\n",
    "# sales['Order Date'] = pd.to_datetime(sales['Order Date'])\n",
    "\n",
    "#The code above showed (ParserError: Unknown string format: Order Date),\n",
    "#there might be some NaN values in the \"Order Date\" column in the dataset"
   ]
  },
  {
   "cell_type": "code",
   "execution_count": 7,
   "id": "30fd535f",
   "metadata": {
    "execution": {
     "iopub.execute_input": "2023-06-01T14:21:16.565354Z",
     "iopub.status.busy": "2023-06-01T14:21:16.564962Z",
     "iopub.status.idle": "2023-06-01T14:21:16.579717Z",
     "shell.execute_reply": "2023-06-01T14:21:16.578363Z"
    },
    "papermill": {
     "duration": 0.033139,
     "end_time": "2023-06-01T14:21:16.582707",
     "exception": false,
     "start_time": "2023-06-01T14:21:16.549568",
     "status": "completed"
    },
    "tags": []
   },
   "outputs": [
    {
     "data": {
      "text/plain": [
       "545"
      ]
     },
     "execution_count": 7,
     "metadata": {},
     "output_type": "execute_result"
    }
   ],
   "source": [
    "# Checking for NaN values in the Order Date column \n",
    "\n",
    "nan_count = sales['Order Date'].isna().sum()\n",
    "nan_count"
   ]
  },
  {
   "cell_type": "markdown",
   "id": "5ea460cd",
   "metadata": {
    "papermill": {
     "duration": 0.013708,
     "end_time": "2023-06-01T14:21:16.610377",
     "exception": false,
     "start_time": "2023-06-01T14:21:16.596669",
     "status": "completed"
    },
    "tags": []
   },
   "source": [
    "***The number of rows with NaN value in the row column seems to be very high and might affect the integrity of the dataset if we remove it***"
   ]
  },
  {
   "cell_type": "code",
   "execution_count": 8,
   "id": "d2a0317f",
   "metadata": {
    "execution": {
     "iopub.execute_input": "2023-06-01T14:21:16.639434Z",
     "iopub.status.busy": "2023-06-01T14:21:16.638476Z",
     "iopub.status.idle": "2023-06-01T14:21:16.801410Z",
     "shell.execute_reply": "2023-06-01T14:21:16.800468Z"
    },
    "papermill": {
     "duration": 0.180044,
     "end_time": "2023-06-01T14:21:16.803835",
     "exception": false,
     "start_time": "2023-06-01T14:21:16.623791",
     "status": "completed"
    },
    "tags": []
   },
   "outputs": [
    {
     "data": {
      "text/plain": [
       "Order ID            545\n",
       "Product             545\n",
       "Quantity Ordered    545\n",
       "Price Each          545\n",
       "Order Date          545\n",
       "Purchase Address    545\n",
       "dtype: int64"
      ]
     },
     "execution_count": 8,
     "metadata": {},
     "output_type": "execute_result"
    }
   ],
   "source": [
    "# Check for NaN values in each column \n",
    "\n",
    "nan_counts = sales.isna().sum()\n",
    "nan_counts"
   ]
  },
  {
   "cell_type": "markdown",
   "id": "3f48dba1",
   "metadata": {
    "papermill": {
     "duration": 0.013237,
     "end_time": "2023-06-01T14:21:16.830584",
     "exception": false,
     "start_time": "2023-06-01T14:21:16.817347",
     "status": "completed"
    },
    "tags": []
   },
   "source": [
    "***Seems like all the values are missing in these rows and we can remove these rows for the analysis***"
   ]
  },
  {
   "cell_type": "code",
   "execution_count": 9,
   "id": "26535397",
   "metadata": {
    "execution": {
     "iopub.execute_input": "2023-06-01T14:21:16.859151Z",
     "iopub.status.busy": "2023-06-01T14:21:16.858713Z",
     "iopub.status.idle": "2023-06-01T14:21:16.863971Z",
     "shell.execute_reply": "2023-06-01T14:21:16.862333Z"
    },
    "papermill": {
     "duration": 0.022687,
     "end_time": "2023-06-01T14:21:16.866723",
     "exception": false,
     "start_time": "2023-06-01T14:21:16.844036",
     "status": "completed"
    },
    "tags": []
   },
   "outputs": [],
   "source": [
    "# Removing the NA values\n",
    "# sales = sales.dropna(how = 'all')"
   ]
  },
  {
   "cell_type": "code",
   "execution_count": 10,
   "id": "eff967a4",
   "metadata": {
    "execution": {
     "iopub.execute_input": "2023-06-01T14:21:16.895693Z",
     "iopub.status.busy": "2023-06-01T14:21:16.895306Z",
     "iopub.status.idle": "2023-06-01T14:21:16.899489Z",
     "shell.execute_reply": "2023-06-01T14:21:16.898449Z"
    },
    "papermill": {
     "duration": 0.020649,
     "end_time": "2023-06-01T14:21:16.901213",
     "exception": false,
     "start_time": "2023-06-01T14:21:16.880564",
     "status": "completed"
    },
    "scrolled": true,
    "tags": []
   },
   "outputs": [],
   "source": [
    "# sales.info()\n",
    "# The code above did not work. It still shows the same number of rows"
   ]
  },
  {
   "cell_type": "code",
   "execution_count": 11,
   "id": "413d9a8a",
   "metadata": {
    "execution": {
     "iopub.execute_input": "2023-06-01T14:21:16.931223Z",
     "iopub.status.busy": "2023-06-01T14:21:16.930850Z",
     "iopub.status.idle": "2023-06-01T14:21:16.934999Z",
     "shell.execute_reply": "2023-06-01T14:21:16.934197Z"
    },
    "papermill": {
     "duration": 0.022541,
     "end_time": "2023-06-01T14:21:16.937403",
     "exception": false,
     "start_time": "2023-06-01T14:21:16.914862",
     "status": "completed"
    },
    "tags": []
   },
   "outputs": [],
   "source": [
    "# sales = sales.replace('NaN', pd.NA).dropna(axis = 1)"
   ]
  },
  {
   "cell_type": "code",
   "execution_count": 12,
   "id": "a560e699",
   "metadata": {
    "execution": {
     "iopub.execute_input": "2023-06-01T14:21:16.966919Z",
     "iopub.status.busy": "2023-06-01T14:21:16.966543Z",
     "iopub.status.idle": "2023-06-01T14:21:16.970682Z",
     "shell.execute_reply": "2023-06-01T14:21:16.969712Z"
    },
    "papermill": {
     "duration": 0.021964,
     "end_time": "2023-06-01T14:21:16.973025",
     "exception": false,
     "start_time": "2023-06-01T14:21:16.951061",
     "status": "completed"
    },
    "tags": []
   },
   "outputs": [],
   "source": [
    "# sales.info()\n",
    "# The code above did not work as well. Thought it had NaN as string values"
   ]
  },
  {
   "cell_type": "code",
   "execution_count": 13,
   "id": "6fdbb848",
   "metadata": {
    "execution": {
     "iopub.execute_input": "2023-06-01T14:21:17.002040Z",
     "iopub.status.busy": "2023-06-01T14:21:17.001687Z",
     "iopub.status.idle": "2023-06-01T14:21:17.056807Z",
     "shell.execute_reply": "2023-06-01T14:21:17.055398Z"
    },
    "papermill": {
     "duration": 0.072351,
     "end_time": "2023-06-01T14:21:17.059240",
     "exception": false,
     "start_time": "2023-06-01T14:21:16.986889",
     "status": "completed"
    },
    "tags": []
   },
   "outputs": [],
   "source": [
    "# Lets try to create a month column other way \n",
    "\n",
    "# Create the month column \n",
    "sales['Month'] = sales['Order Date'].str[0:2]\n",
    "\n",
    "# Change the month column type to integer\n",
    "# sales['Month'] = sales['Month'].astype('int32')\n",
    "\n",
    "# Check the values \n",
    "# sales.head()\n",
    "\n",
    "# ValueError: invalid literal for int() with base 10: 'Or'"
   ]
  },
  {
   "cell_type": "markdown",
   "id": "791fcf05",
   "metadata": {
    "papermill": {
     "duration": 0.013139,
     "end_time": "2023-06-01T14:21:17.086117",
     "exception": false,
     "start_time": "2023-06-01T14:21:17.072978",
     "status": "completed"
    },
    "tags": []
   },
   "source": [
    "***It still shows the value error***\n",
    "***For some reason 'Or shows up when we are trying to convert the data type. Probably the first 2 letters from 04 converted to Or while Data Entry***"
   ]
  },
  {
   "cell_type": "markdown",
   "id": "21e657e1",
   "metadata": {
    "papermill": {
     "duration": 0.013539,
     "end_time": "2023-06-01T14:21:17.113090",
     "exception": false,
     "start_time": "2023-06-01T14:21:17.099551",
     "status": "completed"
    },
    "tags": []
   },
   "source": [
    "***Lets find 'Or' and delete it***"
   ]
  },
  {
   "cell_type": "code",
   "execution_count": 14,
   "id": "c575de10",
   "metadata": {
    "execution": {
     "iopub.execute_input": "2023-06-01T14:21:17.142363Z",
     "iopub.status.busy": "2023-06-01T14:21:17.141968Z",
     "iopub.status.idle": "2023-06-01T14:21:17.145978Z",
     "shell.execute_reply": "2023-06-01T14:21:17.145079Z"
    },
    "papermill": {
     "duration": 0.021196,
     "end_time": "2023-06-01T14:21:17.147976",
     "exception": false,
     "start_time": "2023-06-01T14:21:17.126780",
     "status": "completed"
    },
    "tags": []
   },
   "outputs": [],
   "source": [
    "# Finding or in the 'Order Data' column \n",
    "# sales = sales[sales['Order Date'].str[0:2] == 'Or']\n"
   ]
  },
  {
   "cell_type": "markdown",
   "id": "4d286d6c",
   "metadata": {
    "papermill": {
     "duration": 0.016365,
     "end_time": "2023-06-01T14:21:17.181384",
     "exception": false,
     "start_time": "2023-06-01T14:21:17.165019",
     "status": "completed"
    },
    "tags": []
   },
   "source": [
    "***For some reason the columns are getting duplicated***\n",
    "\n",
    "***Let's try and remove these***"
   ]
  },
  {
   "cell_type": "code",
   "execution_count": 15,
   "id": "b9ef3cac",
   "metadata": {
    "execution": {
     "iopub.execute_input": "2023-06-01T14:21:17.211028Z",
     "iopub.status.busy": "2023-06-01T14:21:17.210115Z",
     "iopub.status.idle": "2023-06-01T14:21:17.492578Z",
     "shell.execute_reply": "2023-06-01T14:21:17.490966Z"
    },
    "papermill": {
     "duration": 0.300019,
     "end_time": "2023-06-01T14:21:17.495031",
     "exception": false,
     "start_time": "2023-06-01T14:21:17.195012",
     "status": "completed"
    },
    "tags": []
   },
   "outputs": [
    {
     "name": "stdout",
     "output_type": "stream",
     "text": [
      "<class 'pandas.core.frame.DataFrame'>\n",
      "Int64Index: 186495 entries, 0 to 186849\n",
      "Data columns (total 7 columns):\n",
      " #   Column            Non-Null Count   Dtype \n",
      "---  ------            --------------   ----- \n",
      " 0   Order ID          185950 non-null  object\n",
      " 1   Product           185950 non-null  object\n",
      " 2   Quantity Ordered  185950 non-null  object\n",
      " 3   Price Each        185950 non-null  object\n",
      " 4   Order Date        185950 non-null  object\n",
      " 5   Purchase Address  185950 non-null  object\n",
      " 6   Month             185950 non-null  object\n",
      "dtypes: object(7)\n",
      "memory usage: 11.4+ MB\n"
     ]
    }
   ],
   "source": [
    "# Creating a DataFrame where the first two values is not Or\n",
    "sales = sales[sales['Order Date'].str[0:2] != 'Or']\n",
    "\n",
    "# Lets check if 545 columns were deleted\n",
    "sales.info()"
   ]
  },
  {
   "cell_type": "code",
   "execution_count": 16,
   "id": "556fbc27",
   "metadata": {
    "execution": {
     "iopub.execute_input": "2023-06-01T14:21:17.525007Z",
     "iopub.status.busy": "2023-06-01T14:21:17.524584Z",
     "iopub.status.idle": "2023-06-01T14:21:17.532819Z",
     "shell.execute_reply": "2023-06-01T14:21:17.531299Z"
    },
    "papermill": {
     "duration": 0.026138,
     "end_time": "2023-06-01T14:21:17.535180",
     "exception": false,
     "start_time": "2023-06-01T14:21:17.509042",
     "status": "completed"
    },
    "tags": []
   },
   "outputs": [
    {
     "data": {
      "text/plain": [
       "355"
      ]
     },
     "execution_count": 16,
     "metadata": {},
     "output_type": "execute_result"
    }
   ],
   "source": [
    "186305 - 185950"
   ]
  },
  {
   "cell_type": "markdown",
   "id": "763feae7",
   "metadata": {
    "papermill": {
     "duration": 0.013048,
     "end_time": "2023-06-01T14:21:17.561738",
     "exception": false,
     "start_time": "2023-06-01T14:21:17.548690",
     "status": "completed"
    },
    "tags": []
   },
   "source": [
    "***seems like those were different rows altogether and NA values are still there***"
   ]
  },
  {
   "cell_type": "code",
   "execution_count": 17,
   "id": "1eb437a4",
   "metadata": {
    "execution": {
     "iopub.execute_input": "2023-06-01T14:21:17.590886Z",
     "iopub.status.busy": "2023-06-01T14:21:17.590506Z",
     "iopub.status.idle": "2023-06-01T14:21:17.602543Z",
     "shell.execute_reply": "2023-06-01T14:21:17.601654Z"
    },
    "papermill": {
     "duration": 0.028246,
     "end_time": "2023-06-01T14:21:17.604338",
     "exception": false,
     "start_time": "2023-06-01T14:21:17.576092",
     "status": "completed"
    },
    "tags": []
   },
   "outputs": [
    {
     "data": {
      "text/html": [
       "<div>\n",
       "<style scoped>\n",
       "    .dataframe tbody tr th:only-of-type {\n",
       "        vertical-align: middle;\n",
       "    }\n",
       "\n",
       "    .dataframe tbody tr th {\n",
       "        vertical-align: top;\n",
       "    }\n",
       "\n",
       "    .dataframe thead th {\n",
       "        text-align: right;\n",
       "    }\n",
       "</style>\n",
       "<table border=\"1\" class=\"dataframe\">\n",
       "  <thead>\n",
       "    <tr style=\"text-align: right;\">\n",
       "      <th></th>\n",
       "      <th>Order ID</th>\n",
       "      <th>Product</th>\n",
       "      <th>Quantity Ordered</th>\n",
       "      <th>Price Each</th>\n",
       "      <th>Order Date</th>\n",
       "      <th>Purchase Address</th>\n",
       "      <th>Month</th>\n",
       "    </tr>\n",
       "  </thead>\n",
       "  <tbody>\n",
       "    <tr>\n",
       "      <th>0</th>\n",
       "      <td>295665</td>\n",
       "      <td>Macbook Pro Laptop</td>\n",
       "      <td>1</td>\n",
       "      <td>1700</td>\n",
       "      <td>12/30/19 00:01</td>\n",
       "      <td>136 Church St, New York City, NY 10001</td>\n",
       "      <td>12</td>\n",
       "    </tr>\n",
       "    <tr>\n",
       "      <th>1</th>\n",
       "      <td>295666</td>\n",
       "      <td>LG Washing Machine</td>\n",
       "      <td>1</td>\n",
       "      <td>600.0</td>\n",
       "      <td>12/29/19 07:03</td>\n",
       "      <td>562 2nd St, New York City, NY 10001</td>\n",
       "      <td>12</td>\n",
       "    </tr>\n",
       "    <tr>\n",
       "      <th>2</th>\n",
       "      <td>295667</td>\n",
       "      <td>USB-C Charging Cable</td>\n",
       "      <td>1</td>\n",
       "      <td>11.95</td>\n",
       "      <td>12/12/19 18:21</td>\n",
       "      <td>277 Main St, New York City, NY 10001</td>\n",
       "      <td>12</td>\n",
       "    </tr>\n",
       "    <tr>\n",
       "      <th>3</th>\n",
       "      <td>295668</td>\n",
       "      <td>27in FHD Monitor</td>\n",
       "      <td>1</td>\n",
       "      <td>149.99</td>\n",
       "      <td>12/22/19 15:13</td>\n",
       "      <td>410 6th St, San Francisco, CA 94016</td>\n",
       "      <td>12</td>\n",
       "    </tr>\n",
       "    <tr>\n",
       "      <th>4</th>\n",
       "      <td>295669</td>\n",
       "      <td>USB-C Charging Cable</td>\n",
       "      <td>1</td>\n",
       "      <td>11.95</td>\n",
       "      <td>12/18/19 12:38</td>\n",
       "      <td>43 Hill St, Atlanta, GA 30301</td>\n",
       "      <td>12</td>\n",
       "    </tr>\n",
       "  </tbody>\n",
       "</table>\n",
       "</div>"
      ],
      "text/plain": [
       "  Order ID               Product Quantity Ordered Price Each      Order Date  \\\n",
       "0   295665    Macbook Pro Laptop                1       1700  12/30/19 00:01   \n",
       "1   295666    LG Washing Machine                1      600.0  12/29/19 07:03   \n",
       "2   295667  USB-C Charging Cable                1      11.95  12/12/19 18:21   \n",
       "3   295668      27in FHD Monitor                1     149.99  12/22/19 15:13   \n",
       "4   295669  USB-C Charging Cable                1      11.95  12/18/19 12:38   \n",
       "\n",
       "                         Purchase Address Month  \n",
       "0  136 Church St, New York City, NY 10001    12  \n",
       "1     562 2nd St, New York City, NY 10001    12  \n",
       "2    277 Main St, New York City, NY 10001    12  \n",
       "3     410 6th St, San Francisco, CA 94016    12  \n",
       "4           43 Hill St, Atlanta, GA 30301    12  "
      ]
     },
     "execution_count": 17,
     "metadata": {},
     "output_type": "execute_result"
    }
   ],
   "source": [
    "sales.head()"
   ]
  },
  {
   "cell_type": "code",
   "execution_count": 18,
   "id": "74f40919",
   "metadata": {
    "execution": {
     "iopub.execute_input": "2023-06-01T14:21:17.635918Z",
     "iopub.status.busy": "2023-06-01T14:21:17.635257Z",
     "iopub.status.idle": "2023-06-01T14:21:17.812332Z",
     "shell.execute_reply": "2023-06-01T14:21:17.811453Z"
    },
    "papermill": {
     "duration": 0.195578,
     "end_time": "2023-06-01T14:21:17.814086",
     "exception": false,
     "start_time": "2023-06-01T14:21:17.618508",
     "status": "completed"
    },
    "tags": []
   },
   "outputs": [
    {
     "data": {
      "text/plain": [
       "Order ID            545\n",
       "Product             545\n",
       "Quantity Ordered    545\n",
       "Price Each          545\n",
       "Order Date          545\n",
       "Purchase Address    545\n",
       "Month               545\n",
       "dtype: int64"
      ]
     },
     "execution_count": 18,
     "metadata": {},
     "output_type": "execute_result"
    }
   ],
   "source": [
    "# Lets check for null values again \n",
    "countnull = sales.isna().sum()\n",
    "countnull"
   ]
  },
  {
   "cell_type": "code",
   "execution_count": 19,
   "id": "91d72042",
   "metadata": {
    "execution": {
     "iopub.execute_input": "2023-06-01T14:21:17.842975Z",
     "iopub.status.busy": "2023-06-01T14:21:17.842656Z",
     "iopub.status.idle": "2023-06-01T14:21:18.041008Z",
     "shell.execute_reply": "2023-06-01T14:21:18.039602Z"
    },
    "papermill": {
     "duration": 0.215547,
     "end_time": "2023-06-01T14:21:18.043205",
     "exception": false,
     "start_time": "2023-06-01T14:21:17.827658",
     "status": "completed"
    },
    "tags": []
   },
   "outputs": [
    {
     "data": {
      "text/html": [
       "<div>\n",
       "<style scoped>\n",
       "    .dataframe tbody tr th:only-of-type {\n",
       "        vertical-align: middle;\n",
       "    }\n",
       "\n",
       "    .dataframe tbody tr th {\n",
       "        vertical-align: top;\n",
       "    }\n",
       "\n",
       "    .dataframe thead th {\n",
       "        text-align: right;\n",
       "    }\n",
       "</style>\n",
       "<table border=\"1\" class=\"dataframe\">\n",
       "  <thead>\n",
       "    <tr style=\"text-align: right;\">\n",
       "      <th></th>\n",
       "      <th>Order ID</th>\n",
       "      <th>Product</th>\n",
       "      <th>Quantity Ordered</th>\n",
       "      <th>Price Each</th>\n",
       "      <th>Order Date</th>\n",
       "      <th>Purchase Address</th>\n",
       "      <th>Month</th>\n",
       "    </tr>\n",
       "  </thead>\n",
       "  <tbody>\n",
       "    <tr>\n",
       "      <th>0</th>\n",
       "      <td>295665</td>\n",
       "      <td>Macbook Pro Laptop</td>\n",
       "      <td>1</td>\n",
       "      <td>1700</td>\n",
       "      <td>12/30/19 00:01</td>\n",
       "      <td>136 Church St, New York City, NY 10001</td>\n",
       "      <td>12</td>\n",
       "    </tr>\n",
       "    <tr>\n",
       "      <th>1</th>\n",
       "      <td>295666</td>\n",
       "      <td>LG Washing Machine</td>\n",
       "      <td>1</td>\n",
       "      <td>600.0</td>\n",
       "      <td>12/29/19 07:03</td>\n",
       "      <td>562 2nd St, New York City, NY 10001</td>\n",
       "      <td>12</td>\n",
       "    </tr>\n",
       "    <tr>\n",
       "      <th>2</th>\n",
       "      <td>295667</td>\n",
       "      <td>USB-C Charging Cable</td>\n",
       "      <td>1</td>\n",
       "      <td>11.95</td>\n",
       "      <td>12/12/19 18:21</td>\n",
       "      <td>277 Main St, New York City, NY 10001</td>\n",
       "      <td>12</td>\n",
       "    </tr>\n",
       "    <tr>\n",
       "      <th>3</th>\n",
       "      <td>295668</td>\n",
       "      <td>27in FHD Monitor</td>\n",
       "      <td>1</td>\n",
       "      <td>149.99</td>\n",
       "      <td>12/22/19 15:13</td>\n",
       "      <td>410 6th St, San Francisco, CA 94016</td>\n",
       "      <td>12</td>\n",
       "    </tr>\n",
       "    <tr>\n",
       "      <th>4</th>\n",
       "      <td>295669</td>\n",
       "      <td>USB-C Charging Cable</td>\n",
       "      <td>1</td>\n",
       "      <td>11.95</td>\n",
       "      <td>12/18/19 12:38</td>\n",
       "      <td>43 Hill St, Atlanta, GA 30301</td>\n",
       "      <td>12</td>\n",
       "    </tr>\n",
       "  </tbody>\n",
       "</table>\n",
       "</div>"
      ],
      "text/plain": [
       "  Order ID               Product Quantity Ordered Price Each      Order Date  \\\n",
       "0   295665    Macbook Pro Laptop                1       1700  12/30/19 00:01   \n",
       "1   295666    LG Washing Machine                1      600.0  12/29/19 07:03   \n",
       "2   295667  USB-C Charging Cable                1      11.95  12/12/19 18:21   \n",
       "3   295668      27in FHD Monitor                1     149.99  12/22/19 15:13   \n",
       "4   295669  USB-C Charging Cable                1      11.95  12/18/19 12:38   \n",
       "\n",
       "                         Purchase Address Month  \n",
       "0  136 Church St, New York City, NY 10001    12  \n",
       "1     562 2nd St, New York City, NY 10001    12  \n",
       "2    277 Main St, New York City, NY 10001    12  \n",
       "3     410 6th St, San Francisco, CA 94016    12  \n",
       "4           43 Hill St, Atlanta, GA 30301    12  "
      ]
     },
     "execution_count": 19,
     "metadata": {},
     "output_type": "execute_result"
    }
   ],
   "source": [
    "# Dropping the Null Values\n",
    "sales = sales.dropna()\n",
    "\n",
    "# Check the dataset\n",
    "sales.head()"
   ]
  },
  {
   "cell_type": "code",
   "execution_count": 20,
   "id": "258d7e0f",
   "metadata": {
    "execution": {
     "iopub.execute_input": "2023-06-01T14:21:18.073049Z",
     "iopub.status.busy": "2023-06-01T14:21:18.072654Z",
     "iopub.status.idle": "2023-06-01T14:21:18.251727Z",
     "shell.execute_reply": "2023-06-01T14:21:18.250347Z"
    },
    "papermill": {
     "duration": 0.197684,
     "end_time": "2023-06-01T14:21:18.255040",
     "exception": false,
     "start_time": "2023-06-01T14:21:18.057356",
     "status": "completed"
    },
    "tags": []
   },
   "outputs": [
    {
     "name": "stdout",
     "output_type": "stream",
     "text": [
      "<class 'pandas.core.frame.DataFrame'>\n",
      "Int64Index: 185950 entries, 0 to 186849\n",
      "Data columns (total 7 columns):\n",
      " #   Column            Non-Null Count   Dtype \n",
      "---  ------            --------------   ----- \n",
      " 0   Order ID          185950 non-null  object\n",
      " 1   Product           185950 non-null  object\n",
      " 2   Quantity Ordered  185950 non-null  object\n",
      " 3   Price Each        185950 non-null  object\n",
      " 4   Order Date        185950 non-null  object\n",
      " 5   Purchase Address  185950 non-null  object\n",
      " 6   Month             185950 non-null  object\n",
      "dtypes: object(7)\n",
      "memory usage: 11.3+ MB\n"
     ]
    }
   ],
   "source": [
    "sales.info()"
   ]
  },
  {
   "cell_type": "code",
   "execution_count": 21,
   "id": "b92e85e4",
   "metadata": {
    "execution": {
     "iopub.execute_input": "2023-06-01T14:21:18.286174Z",
     "iopub.status.busy": "2023-06-01T14:21:18.285796Z",
     "iopub.status.idle": "2023-06-01T14:21:18.462802Z",
     "shell.execute_reply": "2023-06-01T14:21:18.461807Z"
    },
    "papermill": {
     "duration": 0.194889,
     "end_time": "2023-06-01T14:21:18.464834",
     "exception": false,
     "start_time": "2023-06-01T14:21:18.269945",
     "status": "completed"
    },
    "tags": []
   },
   "outputs": [
    {
     "data": {
      "text/plain": [
       "Order ID            0\n",
       "Product             0\n",
       "Quantity Ordered    0\n",
       "Price Each          0\n",
       "Order Date          0\n",
       "Purchase Address    0\n",
       "Month               0\n",
       "dtype: int64"
      ]
     },
     "execution_count": 21,
     "metadata": {},
     "output_type": "execute_result"
    }
   ],
   "source": [
    "# Check if the NaN values were removed \n",
    "count_null = sales.isna().sum()\n",
    "count_null"
   ]
  },
  {
   "cell_type": "markdown",
   "id": "93e82ad9",
   "metadata": {
    "papermill": {
     "duration": 0.014161,
     "end_time": "2023-06-01T14:21:18.493920",
     "exception": false,
     "start_time": "2023-06-01T14:21:18.479759",
     "status": "completed"
    },
    "tags": []
   },
   "source": [
    "***We finally have a much ordered dataset now.***\n",
    "\n",
    "***Let's clean it further***"
   ]
  },
  {
   "cell_type": "code",
   "execution_count": 22,
   "id": "5bf32bd0",
   "metadata": {
    "execution": {
     "iopub.execute_input": "2023-06-01T14:21:18.524766Z",
     "iopub.status.busy": "2023-06-01T14:21:18.524105Z",
     "iopub.status.idle": "2023-06-01T14:21:18.530756Z",
     "shell.execute_reply": "2023-06-01T14:21:18.530031Z"
    },
    "papermill": {
     "duration": 0.024161,
     "end_time": "2023-06-01T14:21:18.532565",
     "exception": false,
     "start_time": "2023-06-01T14:21:18.508404",
     "status": "completed"
    },
    "tags": []
   },
   "outputs": [
    {
     "data": {
      "text/plain": [
       "Order ID            object\n",
       "Product             object\n",
       "Quantity Ordered    object\n",
       "Price Each          object\n",
       "Order Date          object\n",
       "Purchase Address    object\n",
       "Month               object\n",
       "dtype: object"
      ]
     },
     "execution_count": 22,
     "metadata": {},
     "output_type": "execute_result"
    }
   ],
   "source": [
    "# Check the data types of columns \n",
    "sales.dtypes"
   ]
  },
  {
   "cell_type": "markdown",
   "id": "c32183f8",
   "metadata": {
    "papermill": {
     "duration": 0.014163,
     "end_time": "2023-06-01T14:21:18.561200",
     "exception": false,
     "start_time": "2023-06-01T14:21:18.547037",
     "status": "completed"
    },
    "tags": []
   },
   "source": [
    "***Things we need to do***\n",
    "\n",
    "***1. Change the data type of 'Price Each' and 'Quantity Ordered' to float to perform mathematical operations.***\n",
    "\n",
    "***2. Change the month column to assign clearer string values like Jan, Feb, March and so on.***"
   ]
  },
  {
   "cell_type": "code",
   "execution_count": 23,
   "id": "ededf22f",
   "metadata": {
    "execution": {
     "iopub.execute_input": "2023-06-01T14:21:18.593540Z",
     "iopub.status.busy": "2023-06-01T14:21:18.592704Z",
     "iopub.status.idle": "2023-06-01T14:21:18.649970Z",
     "shell.execute_reply": "2023-06-01T14:21:18.648986Z"
    },
    "papermill": {
     "duration": 0.075521,
     "end_time": "2023-06-01T14:21:18.651889",
     "exception": false,
     "start_time": "2023-06-01T14:21:18.576368",
     "status": "completed"
    },
    "tags": []
   },
   "outputs": [
    {
     "data": {
      "text/plain": [
       "Order ID             object\n",
       "Product              object\n",
       "Quantity Ordered    float64\n",
       "Price Each          float64\n",
       "Order Date           object\n",
       "Purchase Address     object\n",
       "Month                object\n",
       "dtype: object"
      ]
     },
     "execution_count": 23,
     "metadata": {},
     "output_type": "execute_result"
    }
   ],
   "source": [
    "# Change 'Price Each' to float\n",
    "sales['Price Each'] = sales['Price Each'].astype(float)\n",
    "\n",
    "# Change 'Quantity Ordered' to float \n",
    "sales['Quantity Ordered'] = sales['Quantity Ordered'].astype(float)\n",
    "\n",
    "# Check the change\n",
    "sales.dtypes"
   ]
  },
  {
   "cell_type": "code",
   "execution_count": 24,
   "id": "647380e6",
   "metadata": {
    "execution": {
     "iopub.execute_input": "2023-06-01T14:21:18.683653Z",
     "iopub.status.busy": "2023-06-01T14:21:18.683315Z",
     "iopub.status.idle": "2023-06-01T14:21:32.499168Z",
     "shell.execute_reply": "2023-06-01T14:21:32.498197Z"
    },
    "papermill": {
     "duration": 13.834643,
     "end_time": "2023-06-01T14:21:32.501558",
     "exception": false,
     "start_time": "2023-06-01T14:21:18.666915",
     "status": "completed"
    },
    "tags": []
   },
   "outputs": [],
   "source": [
    "# Convert 'Order Date' column to datetime\n",
    "sales['Order Date'] = pd.to_datetime(sales['Order Date'])\n",
    "\n",
    "# Create a dictionary for month mapping\n",
    "month_map = {\n",
    "    1: 'Jan',\n",
    "    2: 'Feb',\n",
    "    3: 'Mar',\n",
    "    4: 'Apr',\n",
    "    5: 'May',\n",
    "    6: 'Jun',\n",
    "    7: 'Jul',\n",
    "    8: 'Aug',\n",
    "    9: 'Sep',\n",
    "    10: 'Oct',\n",
    "    11: 'Nov',\n",
    "    12: 'Dec'\n",
    "}\n",
    "\n",
    "# Extract month and map to string values\n",
    "sales['Month'] = sales['Order Date'].dt.month.map(month_map)\n"
   ]
  },
  {
   "cell_type": "code",
   "execution_count": 25,
   "id": "881d39a7",
   "metadata": {
    "execution": {
     "iopub.execute_input": "2023-06-01T14:21:32.532365Z",
     "iopub.status.busy": "2023-06-01T14:21:32.531973Z",
     "iopub.status.idle": "2023-06-01T14:21:32.545770Z",
     "shell.execute_reply": "2023-06-01T14:21:32.544923Z"
    },
    "papermill": {
     "duration": 0.032251,
     "end_time": "2023-06-01T14:21:32.548261",
     "exception": false,
     "start_time": "2023-06-01T14:21:32.516010",
     "status": "completed"
    },
    "tags": []
   },
   "outputs": [
    {
     "data": {
      "text/html": [
       "<div>\n",
       "<style scoped>\n",
       "    .dataframe tbody tr th:only-of-type {\n",
       "        vertical-align: middle;\n",
       "    }\n",
       "\n",
       "    .dataframe tbody tr th {\n",
       "        vertical-align: top;\n",
       "    }\n",
       "\n",
       "    .dataframe thead th {\n",
       "        text-align: right;\n",
       "    }\n",
       "</style>\n",
       "<table border=\"1\" class=\"dataframe\">\n",
       "  <thead>\n",
       "    <tr style=\"text-align: right;\">\n",
       "      <th></th>\n",
       "      <th>Order ID</th>\n",
       "      <th>Product</th>\n",
       "      <th>Quantity Ordered</th>\n",
       "      <th>Price Each</th>\n",
       "      <th>Order Date</th>\n",
       "      <th>Purchase Address</th>\n",
       "      <th>Month</th>\n",
       "    </tr>\n",
       "  </thead>\n",
       "  <tbody>\n",
       "    <tr>\n",
       "      <th>0</th>\n",
       "      <td>295665</td>\n",
       "      <td>Macbook Pro Laptop</td>\n",
       "      <td>1.0</td>\n",
       "      <td>1700.00</td>\n",
       "      <td>2019-12-30 00:01:00</td>\n",
       "      <td>136 Church St, New York City, NY 10001</td>\n",
       "      <td>Dec</td>\n",
       "    </tr>\n",
       "    <tr>\n",
       "      <th>1</th>\n",
       "      <td>295666</td>\n",
       "      <td>LG Washing Machine</td>\n",
       "      <td>1.0</td>\n",
       "      <td>600.00</td>\n",
       "      <td>2019-12-29 07:03:00</td>\n",
       "      <td>562 2nd St, New York City, NY 10001</td>\n",
       "      <td>Dec</td>\n",
       "    </tr>\n",
       "    <tr>\n",
       "      <th>2</th>\n",
       "      <td>295667</td>\n",
       "      <td>USB-C Charging Cable</td>\n",
       "      <td>1.0</td>\n",
       "      <td>11.95</td>\n",
       "      <td>2019-12-12 18:21:00</td>\n",
       "      <td>277 Main St, New York City, NY 10001</td>\n",
       "      <td>Dec</td>\n",
       "    </tr>\n",
       "    <tr>\n",
       "      <th>3</th>\n",
       "      <td>295668</td>\n",
       "      <td>27in FHD Monitor</td>\n",
       "      <td>1.0</td>\n",
       "      <td>149.99</td>\n",
       "      <td>2019-12-22 15:13:00</td>\n",
       "      <td>410 6th St, San Francisco, CA 94016</td>\n",
       "      <td>Dec</td>\n",
       "    </tr>\n",
       "    <tr>\n",
       "      <th>4</th>\n",
       "      <td>295669</td>\n",
       "      <td>USB-C Charging Cable</td>\n",
       "      <td>1.0</td>\n",
       "      <td>11.95</td>\n",
       "      <td>2019-12-18 12:38:00</td>\n",
       "      <td>43 Hill St, Atlanta, GA 30301</td>\n",
       "      <td>Dec</td>\n",
       "    </tr>\n",
       "  </tbody>\n",
       "</table>\n",
       "</div>"
      ],
      "text/plain": [
       "  Order ID               Product  Quantity Ordered  Price Each  \\\n",
       "0   295665    Macbook Pro Laptop               1.0     1700.00   \n",
       "1   295666    LG Washing Machine               1.0      600.00   \n",
       "2   295667  USB-C Charging Cable               1.0       11.95   \n",
       "3   295668      27in FHD Monitor               1.0      149.99   \n",
       "4   295669  USB-C Charging Cable               1.0       11.95   \n",
       "\n",
       "           Order Date                        Purchase Address Month  \n",
       "0 2019-12-30 00:01:00  136 Church St, New York City, NY 10001   Dec  \n",
       "1 2019-12-29 07:03:00     562 2nd St, New York City, NY 10001   Dec  \n",
       "2 2019-12-12 18:21:00    277 Main St, New York City, NY 10001   Dec  \n",
       "3 2019-12-22 15:13:00     410 6th St, San Francisco, CA 94016   Dec  \n",
       "4 2019-12-18 12:38:00           43 Hill St, Atlanta, GA 30301   Dec  "
      ]
     },
     "execution_count": 25,
     "metadata": {},
     "output_type": "execute_result"
    }
   ],
   "source": [
    "sales.head()"
   ]
  },
  {
   "cell_type": "code",
   "execution_count": 26,
   "id": "fd51ff07",
   "metadata": {
    "execution": {
     "iopub.execute_input": "2023-06-01T14:21:32.580001Z",
     "iopub.status.busy": "2023-06-01T14:21:32.579621Z",
     "iopub.status.idle": "2023-06-01T14:21:32.595885Z",
     "shell.execute_reply": "2023-06-01T14:21:32.594747Z"
    },
    "papermill": {
     "duration": 0.034316,
     "end_time": "2023-06-01T14:21:32.597977",
     "exception": false,
     "start_time": "2023-06-01T14:21:32.563661",
     "status": "completed"
    },
    "tags": []
   },
   "outputs": [
    {
     "data": {
      "text/html": [
       "<div>\n",
       "<style scoped>\n",
       "    .dataframe tbody tr th:only-of-type {\n",
       "        vertical-align: middle;\n",
       "    }\n",
       "\n",
       "    .dataframe tbody tr th {\n",
       "        vertical-align: top;\n",
       "    }\n",
       "\n",
       "    .dataframe thead th {\n",
       "        text-align: right;\n",
       "    }\n",
       "</style>\n",
       "<table border=\"1\" class=\"dataframe\">\n",
       "  <thead>\n",
       "    <tr style=\"text-align: right;\">\n",
       "      <th></th>\n",
       "      <th>Order ID</th>\n",
       "      <th>Product</th>\n",
       "      <th>Quantity Ordered</th>\n",
       "      <th>Price Each</th>\n",
       "      <th>Order Date</th>\n",
       "      <th>Purchase Address</th>\n",
       "      <th>Month</th>\n",
       "      <th>Total Price</th>\n",
       "    </tr>\n",
       "  </thead>\n",
       "  <tbody>\n",
       "    <tr>\n",
       "      <th>0</th>\n",
       "      <td>295665</td>\n",
       "      <td>Macbook Pro Laptop</td>\n",
       "      <td>1.0</td>\n",
       "      <td>1700.00</td>\n",
       "      <td>2019-12-30 00:01:00</td>\n",
       "      <td>136 Church St, New York City, NY 10001</td>\n",
       "      <td>Dec</td>\n",
       "      <td>1700.00</td>\n",
       "    </tr>\n",
       "    <tr>\n",
       "      <th>1</th>\n",
       "      <td>295666</td>\n",
       "      <td>LG Washing Machine</td>\n",
       "      <td>1.0</td>\n",
       "      <td>600.00</td>\n",
       "      <td>2019-12-29 07:03:00</td>\n",
       "      <td>562 2nd St, New York City, NY 10001</td>\n",
       "      <td>Dec</td>\n",
       "      <td>600.00</td>\n",
       "    </tr>\n",
       "    <tr>\n",
       "      <th>2</th>\n",
       "      <td>295667</td>\n",
       "      <td>USB-C Charging Cable</td>\n",
       "      <td>1.0</td>\n",
       "      <td>11.95</td>\n",
       "      <td>2019-12-12 18:21:00</td>\n",
       "      <td>277 Main St, New York City, NY 10001</td>\n",
       "      <td>Dec</td>\n",
       "      <td>11.95</td>\n",
       "    </tr>\n",
       "    <tr>\n",
       "      <th>3</th>\n",
       "      <td>295668</td>\n",
       "      <td>27in FHD Monitor</td>\n",
       "      <td>1.0</td>\n",
       "      <td>149.99</td>\n",
       "      <td>2019-12-22 15:13:00</td>\n",
       "      <td>410 6th St, San Francisco, CA 94016</td>\n",
       "      <td>Dec</td>\n",
       "      <td>149.99</td>\n",
       "    </tr>\n",
       "    <tr>\n",
       "      <th>4</th>\n",
       "      <td>295669</td>\n",
       "      <td>USB-C Charging Cable</td>\n",
       "      <td>1.0</td>\n",
       "      <td>11.95</td>\n",
       "      <td>2019-12-18 12:38:00</td>\n",
       "      <td>43 Hill St, Atlanta, GA 30301</td>\n",
       "      <td>Dec</td>\n",
       "      <td>11.95</td>\n",
       "    </tr>\n",
       "  </tbody>\n",
       "</table>\n",
       "</div>"
      ],
      "text/plain": [
       "  Order ID               Product  Quantity Ordered  Price Each  \\\n",
       "0   295665    Macbook Pro Laptop               1.0     1700.00   \n",
       "1   295666    LG Washing Machine               1.0      600.00   \n",
       "2   295667  USB-C Charging Cable               1.0       11.95   \n",
       "3   295668      27in FHD Monitor               1.0      149.99   \n",
       "4   295669  USB-C Charging Cable               1.0       11.95   \n",
       "\n",
       "           Order Date                        Purchase Address Month  \\\n",
       "0 2019-12-30 00:01:00  136 Church St, New York City, NY 10001   Dec   \n",
       "1 2019-12-29 07:03:00     562 2nd St, New York City, NY 10001   Dec   \n",
       "2 2019-12-12 18:21:00    277 Main St, New York City, NY 10001   Dec   \n",
       "3 2019-12-22 15:13:00     410 6th St, San Francisco, CA 94016   Dec   \n",
       "4 2019-12-18 12:38:00           43 Hill St, Atlanta, GA 30301   Dec   \n",
       "\n",
       "   Total Price  \n",
       "0      1700.00  \n",
       "1       600.00  \n",
       "2        11.95  \n",
       "3       149.99  \n",
       "4        11.95  "
      ]
     },
     "execution_count": 26,
     "metadata": {},
     "output_type": "execute_result"
    }
   ],
   "source": [
    "# Add a column Total Price\n",
    "sales['Total Price'] = sales['Quantity Ordered'] * sales['Price Each']\n",
    "\n",
    "# Check the DataFrame\n",
    "sales.head()"
   ]
  },
  {
   "cell_type": "markdown",
   "id": "07cc99fd",
   "metadata": {
    "papermill": {
     "duration": 0.015299,
     "end_time": "2023-06-01T14:21:32.628359",
     "exception": false,
     "start_time": "2023-06-01T14:21:32.613060",
     "status": "completed"
    },
    "tags": []
   },
   "source": [
    "### Exploratory Data Analysis and Data Visualization"
   ]
  },
  {
   "cell_type": "markdown",
   "id": "d8f72979",
   "metadata": {
    "papermill": {
     "duration": 0.014887,
     "end_time": "2023-06-01T14:21:32.658428",
     "exception": false,
     "start_time": "2023-06-01T14:21:32.643541",
     "status": "completed"
    },
    "tags": []
   },
   "source": [
    "***Question 1: What was the best month for sales?***"
   ]
  },
  {
   "cell_type": "markdown",
   "id": "9028b15d",
   "metadata": {
    "papermill": {
     "duration": 0.014728,
     "end_time": "2023-06-01T14:21:32.688498",
     "exception": false,
     "start_time": "2023-06-01T14:21:32.673770",
     "status": "completed"
    },
    "tags": []
   },
   "source": [
    "***Since we have different quantities ordered. We need to have an additional column with (Price * Quantity) as a total price***\n",
    "\n",
    "***Let's get back to Pre-Processing and add an additional column for this***\n"
   ]
  },
  {
   "cell_type": "code",
   "execution_count": 27,
   "id": "038446ad",
   "metadata": {
    "execution": {
     "iopub.execute_input": "2023-06-01T14:21:32.721870Z",
     "iopub.status.busy": "2023-06-01T14:21:32.721243Z",
     "iopub.status.idle": "2023-06-01T14:21:32.746560Z",
     "shell.execute_reply": "2023-06-01T14:21:32.745535Z"
    },
    "papermill": {
     "duration": 0.044372,
     "end_time": "2023-06-01T14:21:32.748361",
     "exception": false,
     "start_time": "2023-06-01T14:21:32.703989",
     "status": "completed"
    },
    "tags": []
   },
   "outputs": [
    {
     "data": {
      "text/html": [
       "<div>\n",
       "<style scoped>\n",
       "    .dataframe tbody tr th:only-of-type {\n",
       "        vertical-align: middle;\n",
       "    }\n",
       "\n",
       "    .dataframe tbody tr th {\n",
       "        vertical-align: top;\n",
       "    }\n",
       "\n",
       "    .dataframe thead th {\n",
       "        text-align: right;\n",
       "    }\n",
       "</style>\n",
       "<table border=\"1\" class=\"dataframe\">\n",
       "  <thead>\n",
       "    <tr style=\"text-align: right;\">\n",
       "      <th></th>\n",
       "      <th>Month</th>\n",
       "      <th>Total Price</th>\n",
       "    </tr>\n",
       "  </thead>\n",
       "  <tbody>\n",
       "    <tr>\n",
       "      <th>0</th>\n",
       "      <td>Apr</td>\n",
       "      <td>3390670.24</td>\n",
       "    </tr>\n",
       "    <tr>\n",
       "      <th>1</th>\n",
       "      <td>Aug</td>\n",
       "      <td>2244467.88</td>\n",
       "    </tr>\n",
       "    <tr>\n",
       "      <th>2</th>\n",
       "      <td>Dec</td>\n",
       "      <td>4613443.34</td>\n",
       "    </tr>\n",
       "    <tr>\n",
       "      <th>3</th>\n",
       "      <td>Feb</td>\n",
       "      <td>2202022.42</td>\n",
       "    </tr>\n",
       "    <tr>\n",
       "      <th>4</th>\n",
       "      <td>Jan</td>\n",
       "      <td>1822256.73</td>\n",
       "    </tr>\n",
       "    <tr>\n",
       "      <th>5</th>\n",
       "      <td>Jul</td>\n",
       "      <td>2647775.76</td>\n",
       "    </tr>\n",
       "    <tr>\n",
       "      <th>6</th>\n",
       "      <td>Jun</td>\n",
       "      <td>2577802.26</td>\n",
       "    </tr>\n",
       "    <tr>\n",
       "      <th>7</th>\n",
       "      <td>Mar</td>\n",
       "      <td>2807100.38</td>\n",
       "    </tr>\n",
       "    <tr>\n",
       "      <th>8</th>\n",
       "      <td>May</td>\n",
       "      <td>3152606.75</td>\n",
       "    </tr>\n",
       "    <tr>\n",
       "      <th>9</th>\n",
       "      <td>Nov</td>\n",
       "      <td>3199603.20</td>\n",
       "    </tr>\n",
       "    <tr>\n",
       "      <th>10</th>\n",
       "      <td>Oct</td>\n",
       "      <td>3736726.88</td>\n",
       "    </tr>\n",
       "    <tr>\n",
       "      <th>11</th>\n",
       "      <td>Sep</td>\n",
       "      <td>2097560.13</td>\n",
       "    </tr>\n",
       "  </tbody>\n",
       "</table>\n",
       "</div>"
      ],
      "text/plain": [
       "   Month  Total Price\n",
       "0    Apr   3390670.24\n",
       "1    Aug   2244467.88\n",
       "2    Dec   4613443.34\n",
       "3    Feb   2202022.42\n",
       "4    Jan   1822256.73\n",
       "5    Jul   2647775.76\n",
       "6    Jun   2577802.26\n",
       "7    Mar   2807100.38\n",
       "8    May   3152606.75\n",
       "9    Nov   3199603.20\n",
       "10   Oct   3736726.88\n",
       "11   Sep   2097560.13"
      ]
     },
     "execution_count": 27,
     "metadata": {},
     "output_type": "execute_result"
    }
   ],
   "source": [
    "# Group by the month and see the best month for sales \n",
    "\n",
    "monthly_sales = sales.groupby('Month')['Total Price'].sum().reset_index()\n",
    "\n",
    "# Lets check the monthly sales \n",
    "monthly_sales"
   ]
  },
  {
   "cell_type": "code",
   "execution_count": 28,
   "id": "dc5dc6d8",
   "metadata": {
    "execution": {
     "iopub.execute_input": "2023-06-01T14:21:32.779741Z",
     "iopub.status.busy": "2023-06-01T14:21:32.779110Z",
     "iopub.status.idle": "2023-06-01T14:21:32.791887Z",
     "shell.execute_reply": "2023-06-01T14:21:32.790885Z"
    },
    "papermill": {
     "duration": 0.030426,
     "end_time": "2023-06-01T14:21:32.793585",
     "exception": false,
     "start_time": "2023-06-01T14:21:32.763159",
     "status": "completed"
    },
    "tags": []
   },
   "outputs": [
    {
     "data": {
      "text/html": [
       "<div>\n",
       "<style scoped>\n",
       "    .dataframe tbody tr th:only-of-type {\n",
       "        vertical-align: middle;\n",
       "    }\n",
       "\n",
       "    .dataframe tbody tr th {\n",
       "        vertical-align: top;\n",
       "    }\n",
       "\n",
       "    .dataframe thead th {\n",
       "        text-align: right;\n",
       "    }\n",
       "</style>\n",
       "<table border=\"1\" class=\"dataframe\">\n",
       "  <thead>\n",
       "    <tr style=\"text-align: right;\">\n",
       "      <th></th>\n",
       "      <th>Month</th>\n",
       "      <th>Total Price</th>\n",
       "    </tr>\n",
       "  </thead>\n",
       "  <tbody>\n",
       "    <tr>\n",
       "      <th>0</th>\n",
       "      <td>Jan</td>\n",
       "      <td>1822256.73</td>\n",
       "    </tr>\n",
       "    <tr>\n",
       "      <th>1</th>\n",
       "      <td>Feb</td>\n",
       "      <td>2202022.42</td>\n",
       "    </tr>\n",
       "    <tr>\n",
       "      <th>2</th>\n",
       "      <td>Mar</td>\n",
       "      <td>2807100.38</td>\n",
       "    </tr>\n",
       "    <tr>\n",
       "      <th>3</th>\n",
       "      <td>Apr</td>\n",
       "      <td>3390670.24</td>\n",
       "    </tr>\n",
       "    <tr>\n",
       "      <th>4</th>\n",
       "      <td>May</td>\n",
       "      <td>3152606.75</td>\n",
       "    </tr>\n",
       "    <tr>\n",
       "      <th>5</th>\n",
       "      <td>Jun</td>\n",
       "      <td>2577802.26</td>\n",
       "    </tr>\n",
       "    <tr>\n",
       "      <th>6</th>\n",
       "      <td>Jul</td>\n",
       "      <td>2647775.76</td>\n",
       "    </tr>\n",
       "    <tr>\n",
       "      <th>7</th>\n",
       "      <td>Aug</td>\n",
       "      <td>2244467.88</td>\n",
       "    </tr>\n",
       "    <tr>\n",
       "      <th>8</th>\n",
       "      <td>Sep</td>\n",
       "      <td>2097560.13</td>\n",
       "    </tr>\n",
       "    <tr>\n",
       "      <th>9</th>\n",
       "      <td>Oct</td>\n",
       "      <td>3736726.88</td>\n",
       "    </tr>\n",
       "    <tr>\n",
       "      <th>10</th>\n",
       "      <td>Nov</td>\n",
       "      <td>3199603.20</td>\n",
       "    </tr>\n",
       "    <tr>\n",
       "      <th>11</th>\n",
       "      <td>Dec</td>\n",
       "      <td>4613443.34</td>\n",
       "    </tr>\n",
       "  </tbody>\n",
       "</table>\n",
       "</div>"
      ],
      "text/plain": [
       "   Month  Total Price\n",
       "0    Jan   1822256.73\n",
       "1    Feb   2202022.42\n",
       "2    Mar   2807100.38\n",
       "3    Apr   3390670.24\n",
       "4    May   3152606.75\n",
       "5    Jun   2577802.26\n",
       "6    Jul   2647775.76\n",
       "7    Aug   2244467.88\n",
       "8    Sep   2097560.13\n",
       "9    Oct   3736726.88\n",
       "10   Nov   3199603.20\n",
       "11   Dec   4613443.34"
      ]
     },
     "execution_count": 28,
     "metadata": {},
     "output_type": "execute_result"
    }
   ],
   "source": [
    "# Let's order them from Jan to Dec \n",
    "\n",
    "# Define the month order\n",
    "month_order = ['Jan', 'Feb', 'Mar', 'Apr', 'May', 'Jun', 'Jul', 'Aug', 'Sep', 'Oct', 'Nov', 'Dec']\n",
    "\n",
    "# Sort the DataFrame by the month order\n",
    "monthly_sales_sorted = monthly_sales.sort_values(by='Month', key=lambda x: x.map({v: k for k, v in enumerate(month_order)}))\n",
    "\n",
    "# Reset Index \n",
    "monthly_sales_sorted = monthly_sales_sorted.reset_index(drop = True)\n",
    "\n",
    "# Print the sorted DataFrame\n",
    "monthly_sales_sorted\n"
   ]
  },
  {
   "cell_type": "code",
   "execution_count": 29,
   "id": "4776b7ad",
   "metadata": {
    "execution": {
     "iopub.execute_input": "2023-06-01T14:21:32.825385Z",
     "iopub.status.busy": "2023-06-01T14:21:32.824804Z",
     "iopub.status.idle": "2023-06-01T14:21:32.830736Z",
     "shell.execute_reply": "2023-06-01T14:21:32.829977Z"
    },
    "papermill": {
     "duration": 0.023707,
     "end_time": "2023-06-01T14:21:32.832528",
     "exception": false,
     "start_time": "2023-06-01T14:21:32.808821",
     "status": "completed"
    },
    "tags": []
   },
   "outputs": [
    {
     "name": "stdout",
     "output_type": "stream",
     "text": [
      "   Month  Total Price\n",
      "0    Jan      1822256\n",
      "1    Feb      2202022\n",
      "2    Mar      2807100\n",
      "3    Apr      3390670\n",
      "4    May      3152606\n",
      "5    Jun      2577802\n",
      "6    Jul      2647775\n",
      "7    Aug      2244467\n",
      "8    Sep      2097560\n",
      "9    Oct      3736726\n",
      "10   Nov      3199603\n",
      "11   Dec      4613443\n"
     ]
    }
   ],
   "source": [
    "# Drop the decimals for better visualization\n",
    "\n",
    "# Convert 'Total Price' column to integer type\n",
    "monthly_sales_sorted['Total Price'] = monthly_sales_sorted['Total Price'].astype(int)\n",
    "\n",
    "# Print the updated DataFrame\n",
    "print(monthly_sales_sorted)\n"
   ]
  },
  {
   "cell_type": "markdown",
   "id": "3d7933a6",
   "metadata": {
    "papermill": {
     "duration": 0.015424,
     "end_time": "2023-06-01T14:21:32.863360",
     "exception": false,
     "start_time": "2023-06-01T14:21:32.847936",
     "status": "completed"
    },
    "tags": []
   },
   "source": [
    "***The best month for sales was December***\n",
    "\n",
    "***Let's put it in the bar graph visualization for better visibility***"
   ]
  },
  {
   "cell_type": "code",
   "execution_count": 30,
   "id": "d289639d",
   "metadata": {
    "execution": {
     "iopub.execute_input": "2023-06-01T14:21:32.895958Z",
     "iopub.status.busy": "2023-06-01T14:21:32.895634Z",
     "iopub.status.idle": "2023-06-01T14:21:33.233944Z",
     "shell.execute_reply": "2023-06-01T14:21:33.233116Z"
    },
    "papermill": {
     "duration": 0.356712,
     "end_time": "2023-06-01T14:21:33.235778",
     "exception": false,
     "start_time": "2023-06-01T14:21:32.879066",
     "status": "completed"
    },
    "tags": []
   },
   "outputs": [
    {
     "name": "stderr",
     "output_type": "stream",
     "text": [
      "/tmp/ipykernel_21/3556067343.py:2: MatplotlibDeprecationWarning: The seaborn styles shipped by Matplotlib are deprecated since 3.6, as they no longer correspond to the styles shipped by seaborn. However, they will remain available as 'seaborn-v0_8-<style>'. Alternatively, directly use the seaborn API instead.\n",
      "  plt.style.use('seaborn')\n"
     ]
    },
    {
     "data": {
      "image/png": "[encoded data removed]",
      "text/plain": [
       "<Figure size 1200x800 with 1 Axes>"
      ]
     },
     "metadata": {},
     "output_type": "display_data"
    }
   ],
   "source": [
    "# Set the style of the chart\n",
    "plt.style.use('seaborn')\n",
    "\n",
    "# Create a figure and axes\n",
    "fig, ax = plt.subplots(figsize = (12,8))\n",
    "\n",
    "# Set the x-axis values and the corresponding heights\n",
    "x_values = monthly_sales_sorted['Month']\n",
    "y_values = monthly_sales_sorted['Total Price']\n",
    "\n",
    "# Create an array of colors for the bars\n",
    "colors = plt.cm.Set3(np.arange(len(x_values)))\n",
    "\n",
    "# Create the bar chart with colored bars\n",
    "ax.bar(x_values, y_values, color=colors)\n",
    "\n",
    "# Add labels to the bars\n",
    "for i, v in enumerate(y_values):\n",
    "    ax.text(i, v, str(round(v, 2)), ha='center', va='bottom', fontweight = 'bold')\n",
    "\n",
    "# Set labels and title\n",
    "ax.set_xlabel('Month', fontweight = 'bold')\n",
    "ax.set_ylabel('Total Sales', fontweight = 'bold')\n",
    "ax.set_title('Monthly Sales', fontweight = 'bold')\n",
    "\n",
    "# Rotate the x-axis labels for better readability\n",
    "plt.xticks(rotation=45)\n",
    "\n",
    "# Display the chart\n",
    "plt.tight_layout()\n",
    "plt.show()\n"
   ]
  },
  {
   "cell_type": "markdown",
   "id": "2f2f0c24",
   "metadata": {
    "papermill": {
     "duration": 0.016313,
     "end_time": "2023-06-01T14:21:33.267712",
     "exception": false,
     "start_time": "2023-06-01T14:21:33.251399",
     "status": "completed"
    },
    "tags": []
   },
   "source": [
    "***Question2: Which city sold the most product?***"
   ]
  },
  {
   "cell_type": "code",
   "execution_count": 31,
   "id": "94b4cf6a",
   "metadata": {
    "execution": {
     "iopub.execute_input": "2023-06-01T14:21:33.301490Z",
     "iopub.status.busy": "2023-06-01T14:21:33.301103Z",
     "iopub.status.idle": "2023-06-01T14:21:33.314233Z",
     "shell.execute_reply": "2023-06-01T14:21:33.313403Z"
    },
    "papermill": {
     "duration": 0.032149,
     "end_time": "2023-06-01T14:21:33.315944",
     "exception": false,
     "start_time": "2023-06-01T14:21:33.283795",
     "status": "completed"
    },
    "tags": []
   },
   "outputs": [
    {
     "data": {
      "text/html": [
       "<div>\n",
       "<style scoped>\n",
       "    .dataframe tbody tr th:only-of-type {\n",
       "        vertical-align: middle;\n",
       "    }\n",
       "\n",
       "    .dataframe tbody tr th {\n",
       "        vertical-align: top;\n",
       "    }\n",
       "\n",
       "    .dataframe thead th {\n",
       "        text-align: right;\n",
       "    }\n",
       "</style>\n",
       "<table border=\"1\" class=\"dataframe\">\n",
       "  <thead>\n",
       "    <tr style=\"text-align: right;\">\n",
       "      <th></th>\n",
       "      <th>Order ID</th>\n",
       "      <th>Product</th>\n",
       "      <th>Quantity Ordered</th>\n",
       "      <th>Price Each</th>\n",
       "      <th>Order Date</th>\n",
       "      <th>Purchase Address</th>\n",
       "      <th>Month</th>\n",
       "      <th>Total Price</th>\n",
       "    </tr>\n",
       "  </thead>\n",
       "  <tbody>\n",
       "    <tr>\n",
       "      <th>0</th>\n",
       "      <td>295665</td>\n",
       "      <td>Macbook Pro Laptop</td>\n",
       "      <td>1.0</td>\n",
       "      <td>1700.00</td>\n",
       "      <td>2019-12-30 00:01:00</td>\n",
       "      <td>136 Church St, New York City, NY 10001</td>\n",
       "      <td>Dec</td>\n",
       "      <td>1700.00</td>\n",
       "    </tr>\n",
       "    <tr>\n",
       "      <th>1</th>\n",
       "      <td>295666</td>\n",
       "      <td>LG Washing Machine</td>\n",
       "      <td>1.0</td>\n",
       "      <td>600.00</td>\n",
       "      <td>2019-12-29 07:03:00</td>\n",
       "      <td>562 2nd St, New York City, NY 10001</td>\n",
       "      <td>Dec</td>\n",
       "      <td>600.00</td>\n",
       "    </tr>\n",
       "    <tr>\n",
       "      <th>2</th>\n",
       "      <td>295667</td>\n",
       "      <td>USB-C Charging Cable</td>\n",
       "      <td>1.0</td>\n",
       "      <td>11.95</td>\n",
       "      <td>2019-12-12 18:21:00</td>\n",
       "      <td>277 Main St, New York City, NY 10001</td>\n",
       "      <td>Dec</td>\n",
       "      <td>11.95</td>\n",
       "    </tr>\n",
       "    <tr>\n",
       "      <th>3</th>\n",
       "      <td>295668</td>\n",
       "      <td>27in FHD Monitor</td>\n",
       "      <td>1.0</td>\n",
       "      <td>149.99</td>\n",
       "      <td>2019-12-22 15:13:00</td>\n",
       "      <td>410 6th St, San Francisco, CA 94016</td>\n",
       "      <td>Dec</td>\n",
       "      <td>149.99</td>\n",
       "    </tr>\n",
       "    <tr>\n",
       "      <th>4</th>\n",
       "      <td>295669</td>\n",
       "      <td>USB-C Charging Cable</td>\n",
       "      <td>1.0</td>\n",
       "      <td>11.95</td>\n",
       "      <td>2019-12-18 12:38:00</td>\n",
       "      <td>43 Hill St, Atlanta, GA 30301</td>\n",
       "      <td>Dec</td>\n",
       "      <td>11.95</td>\n",
       "    </tr>\n",
       "  </tbody>\n",
       "</table>\n",
       "</div>"
      ],
      "text/plain": [
       "  Order ID               Product  Quantity Ordered  Price Each  \\\n",
       "0   295665    Macbook Pro Laptop               1.0     1700.00   \n",
       "1   295666    LG Washing Machine               1.0      600.00   \n",
       "2   295667  USB-C Charging Cable               1.0       11.95   \n",
       "3   295668      27in FHD Monitor               1.0      149.99   \n",
       "4   295669  USB-C Charging Cable               1.0       11.95   \n",
       "\n",
       "           Order Date                        Purchase Address Month  \\\n",
       "0 2019-12-30 00:01:00  136 Church St, New York City, NY 10001   Dec   \n",
       "1 2019-12-29 07:03:00     562 2nd St, New York City, NY 10001   Dec   \n",
       "2 2019-12-12 18:21:00    277 Main St, New York City, NY 10001   Dec   \n",
       "3 2019-12-22 15:13:00     410 6th St, San Francisco, CA 94016   Dec   \n",
       "4 2019-12-18 12:38:00           43 Hill St, Atlanta, GA 30301   Dec   \n",
       "\n",
       "   Total Price  \n",
       "0      1700.00  \n",
       "1       600.00  \n",
       "2        11.95  \n",
       "3       149.99  \n",
       "4        11.95  "
      ]
     },
     "execution_count": 31,
     "metadata": {},
     "output_type": "execute_result"
    }
   ],
   "source": [
    "# Look at the Purchase address column \n",
    "sales.head()"
   ]
  },
  {
   "cell_type": "code",
   "execution_count": 32,
   "id": "df0fbae1",
   "metadata": {
    "execution": {
     "iopub.execute_input": "2023-06-01T14:21:33.350654Z",
     "iopub.status.busy": "2023-06-01T14:21:33.350305Z",
     "iopub.status.idle": "2023-06-01T14:21:33.909041Z",
     "shell.execute_reply": "2023-06-01T14:21:33.908155Z"
    },
    "papermill": {
     "duration": 0.578373,
     "end_time": "2023-06-01T14:21:33.910928",
     "exception": false,
     "start_time": "2023-06-01T14:21:33.332555",
     "status": "completed"
    },
    "tags": []
   },
   "outputs": [
    {
     "data": {
      "text/html": [
       "<div>\n",
       "<style scoped>\n",
       "    .dataframe tbody tr th:only-of-type {\n",
       "        vertical-align: middle;\n",
       "    }\n",
       "\n",
       "    .dataframe tbody tr th {\n",
       "        vertical-align: top;\n",
       "    }\n",
       "\n",
       "    .dataframe thead th {\n",
       "        text-align: right;\n",
       "    }\n",
       "</style>\n",
       "<table border=\"1\" class=\"dataframe\">\n",
       "  <thead>\n",
       "    <tr style=\"text-align: right;\">\n",
       "      <th></th>\n",
       "      <th>Order ID</th>\n",
       "      <th>Product</th>\n",
       "      <th>Quantity Ordered</th>\n",
       "      <th>Price Each</th>\n",
       "      <th>Order Date</th>\n",
       "      <th>Purchase Address</th>\n",
       "      <th>Month</th>\n",
       "      <th>Total Price</th>\n",
       "      <th>City</th>\n",
       "    </tr>\n",
       "  </thead>\n",
       "  <tbody>\n",
       "    <tr>\n",
       "      <th>0</th>\n",
       "      <td>295665</td>\n",
       "      <td>Macbook Pro Laptop</td>\n",
       "      <td>1.0</td>\n",
       "      <td>1700.00</td>\n",
       "      <td>2019-12-30 00:01:00</td>\n",
       "      <td>136 Church St, New York City, NY 10001</td>\n",
       "      <td>Dec</td>\n",
       "      <td>1700.00</td>\n",
       "      <td>New York City</td>\n",
       "    </tr>\n",
       "    <tr>\n",
       "      <th>1</th>\n",
       "      <td>295666</td>\n",
       "      <td>LG Washing Machine</td>\n",
       "      <td>1.0</td>\n",
       "      <td>600.00</td>\n",
       "      <td>2019-12-29 07:03:00</td>\n",
       "      <td>562 2nd St, New York City, NY 10001</td>\n",
       "      <td>Dec</td>\n",
       "      <td>600.00</td>\n",
       "      <td>New York City</td>\n",
       "    </tr>\n",
       "    <tr>\n",
       "      <th>2</th>\n",
       "      <td>295667</td>\n",
       "      <td>USB-C Charging Cable</td>\n",
       "      <td>1.0</td>\n",
       "      <td>11.95</td>\n",
       "      <td>2019-12-12 18:21:00</td>\n",
       "      <td>277 Main St, New York City, NY 10001</td>\n",
       "      <td>Dec</td>\n",
       "      <td>11.95</td>\n",
       "      <td>New York City</td>\n",
       "    </tr>\n",
       "    <tr>\n",
       "      <th>3</th>\n",
       "      <td>295668</td>\n",
       "      <td>27in FHD Monitor</td>\n",
       "      <td>1.0</td>\n",
       "      <td>149.99</td>\n",
       "      <td>2019-12-22 15:13:00</td>\n",
       "      <td>410 6th St, San Francisco, CA 94016</td>\n",
       "      <td>Dec</td>\n",
       "      <td>149.99</td>\n",
       "      <td>San Francisco</td>\n",
       "    </tr>\n",
       "    <tr>\n",
       "      <th>4</th>\n",
       "      <td>295669</td>\n",
       "      <td>USB-C Charging Cable</td>\n",
       "      <td>1.0</td>\n",
       "      <td>11.95</td>\n",
       "      <td>2019-12-18 12:38:00</td>\n",
       "      <td>43 Hill St, Atlanta, GA 30301</td>\n",
       "      <td>Dec</td>\n",
       "      <td>11.95</td>\n",
       "      <td>Atlanta</td>\n",
       "    </tr>\n",
       "  </tbody>\n",
       "</table>\n",
       "</div>"
      ],
      "text/plain": [
       "  Order ID               Product  Quantity Ordered  Price Each  \\\n",
       "0   295665    Macbook Pro Laptop               1.0     1700.00   \n",
       "1   295666    LG Washing Machine               1.0      600.00   \n",
       "2   295667  USB-C Charging Cable               1.0       11.95   \n",
       "3   295668      27in FHD Monitor               1.0      149.99   \n",
       "4   295669  USB-C Charging Cable               1.0       11.95   \n",
       "\n",
       "           Order Date                        Purchase Address Month  \\\n",
       "0 2019-12-30 00:01:00  136 Church St, New York City, NY 10001   Dec   \n",
       "1 2019-12-29 07:03:00     562 2nd St, New York City, NY 10001   Dec   \n",
       "2 2019-12-12 18:21:00    277 Main St, New York City, NY 10001   Dec   \n",
       "3 2019-12-22 15:13:00     410 6th St, San Francisco, CA 94016   Dec   \n",
       "4 2019-12-18 12:38:00           43 Hill St, Atlanta, GA 30301   Dec   \n",
       "\n",
       "   Total Price           City  \n",
       "0      1700.00  New York City  \n",
       "1       600.00  New York City  \n",
       "2        11.95  New York City  \n",
       "3       149.99  San Francisco  \n",
       "4        11.95        Atlanta  "
      ]
     },
     "execution_count": 32,
     "metadata": {},
     "output_type": "execute_result"
    }
   ],
   "source": [
    "# Split the Purchase address column and create a new column city \n",
    "sales['City'] = sales['Purchase Address'].str.split(',').str[1].str.strip()\n",
    "\n",
    "# Lets check the City Column \n",
    "sales.head()"
   ]
  },
  {
   "cell_type": "code",
   "execution_count": 33,
   "id": "1c39a45a",
   "metadata": {
    "execution": {
     "iopub.execute_input": "2023-06-01T14:21:33.946469Z",
     "iopub.status.busy": "2023-06-01T14:21:33.946021Z",
     "iopub.status.idle": "2023-06-01T14:21:33.991793Z",
     "shell.execute_reply": "2023-06-01T14:21:33.990437Z"
    },
    "papermill": {
     "duration": 0.066322,
     "end_time": "2023-06-01T14:21:33.993926",
     "exception": false,
     "start_time": "2023-06-01T14:21:33.927604",
     "status": "completed"
    },
    "tags": []
   },
   "outputs": [
    {
     "data": {
      "text/html": [
       "<div>\n",
       "<style scoped>\n",
       "    .dataframe tbody tr th:only-of-type {\n",
       "        vertical-align: middle;\n",
       "    }\n",
       "\n",
       "    .dataframe tbody tr th {\n",
       "        vertical-align: top;\n",
       "    }\n",
       "\n",
       "    .dataframe thead th {\n",
       "        text-align: right;\n",
       "    }\n",
       "</style>\n",
       "<table border=\"1\" class=\"dataframe\">\n",
       "  <thead>\n",
       "    <tr style=\"text-align: right;\">\n",
       "      <th></th>\n",
       "      <th>City</th>\n",
       "      <th>Total Price</th>\n",
       "    </tr>\n",
       "  </thead>\n",
       "  <tbody>\n",
       "    <tr>\n",
       "      <th>0</th>\n",
       "      <td>Atlanta</td>\n",
       "      <td>2795498</td>\n",
       "    </tr>\n",
       "    <tr>\n",
       "      <th>1</th>\n",
       "      <td>Austin</td>\n",
       "      <td>1819581</td>\n",
       "    </tr>\n",
       "    <tr>\n",
       "      <th>2</th>\n",
       "      <td>Boston</td>\n",
       "      <td>3661642</td>\n",
       "    </tr>\n",
       "    <tr>\n",
       "      <th>3</th>\n",
       "      <td>Dallas</td>\n",
       "      <td>2767975</td>\n",
       "    </tr>\n",
       "    <tr>\n",
       "      <th>4</th>\n",
       "      <td>Los Angeles</td>\n",
       "      <td>5452570</td>\n",
       "    </tr>\n",
       "    <tr>\n",
       "      <th>5</th>\n",
       "      <td>New York City</td>\n",
       "      <td>4664317</td>\n",
       "    </tr>\n",
       "    <tr>\n",
       "      <th>6</th>\n",
       "      <td>Portland</td>\n",
       "      <td>2320490</td>\n",
       "    </tr>\n",
       "    <tr>\n",
       "      <th>7</th>\n",
       "      <td>San Francisco</td>\n",
       "      <td>8262203</td>\n",
       "    </tr>\n",
       "    <tr>\n",
       "      <th>8</th>\n",
       "      <td>Seattle</td>\n",
       "      <td>2747755</td>\n",
       "    </tr>\n",
       "  </tbody>\n",
       "</table>\n",
       "</div>"
      ],
      "text/plain": [
       "            City  Total Price\n",
       "0        Atlanta      2795498\n",
       "1         Austin      1819581\n",
       "2         Boston      3661642\n",
       "3         Dallas      2767975\n",
       "4    Los Angeles      5452570\n",
       "5  New York City      4664317\n",
       "6       Portland      2320490\n",
       "7  San Francisco      8262203\n",
       "8        Seattle      2747755"
      ]
     },
     "execution_count": 33,
     "metadata": {},
     "output_type": "execute_result"
    }
   ],
   "source": [
    "# Group the Total Price by City\n",
    "\n",
    "sales_by_city = sales.groupby('City')['Total Price'].sum().reset_index()\n",
    "\n",
    "# Drop the decimals for better visualization\n",
    "\n",
    "# Convert 'Total Price' column to integer type\n",
    "sales_by_city['Total Price'] = sales_by_city['Total Price'].astype(int)\n",
    "\n",
    "# Print the sorted DataFrame\n",
    "sales_by_city"
   ]
  },
  {
   "cell_type": "code",
   "execution_count": 34,
   "id": "40565ef5",
   "metadata": {
    "execution": {
     "iopub.execute_input": "2023-06-01T14:21:34.029397Z",
     "iopub.status.busy": "2023-06-01T14:21:34.028772Z",
     "iopub.status.idle": "2023-06-01T14:21:34.307270Z",
     "shell.execute_reply": "2023-06-01T14:21:34.306324Z"
    },
    "papermill": {
     "duration": 0.298897,
     "end_time": "2023-06-01T14:21:34.309085",
     "exception": false,
     "start_time": "2023-06-01T14:21:34.010188",
     "status": "completed"
    },
    "tags": []
   },
   "outputs": [
    {
     "name": "stderr",
     "output_type": "stream",
     "text": [
      "/tmp/ipykernel_21/2310594326.py:2: MatplotlibDeprecationWarning: The seaborn styles shipped by Matplotlib are deprecated since 3.6, as they no longer correspond to the styles shipped by seaborn. However, they will remain available as 'seaborn-v0_8-<style>'. Alternatively, directly use the seaborn API instead.\n",
      "  plt.style.use('seaborn')\n"
     ]
    },
    {
     "data": {
      "image/png": "[encoded data removed]",
      "text/plain": [
       "<Figure size 1000x600 with 1 Axes>"
      ]
     },
     "metadata": {},
     "output_type": "display_data"
    }
   ],
   "source": [
    "# Set the style of the chart\n",
    "plt.style.use('seaborn')\n",
    "\n",
    "# Create a figure and axes\n",
    "fig, ax = plt.subplots(figsize = (10,6))\n",
    "\n",
    "# Set the x-axis values and the corresponding heights\n",
    "x_values = sales_by_city['City']\n",
    "y_values = sales_by_city['Total Price']\n",
    "\n",
    "# Create an array of colors for the bars\n",
    "colors = plt.cm.Set3(np.arange(len(x_values)))\n",
    "\n",
    "# Create the bar chart with colored bars\n",
    "ax.bar(x_values, y_values, color=colors)\n",
    "\n",
    "# Add labels to the bars\n",
    "for i, v in enumerate(y_values):\n",
    "    ax.text(i, v, str(round(v, 2)), ha='center', va='bottom', fontweight = 'bold')\n",
    "\n",
    "# Set labels and title\n",
    "ax.set_xlabel('City', fontweight = 'bold')\n",
    "ax.set_ylabel('Total Sales', fontweight = 'bold')\n",
    "ax.set_title('City Wise Total Sales', fontweight = 'bold')\n",
    "\n",
    "# Rotate the x-axis labels for better readability\n",
    "plt.xticks(rotation=45)\n",
    "\n",
    "# Display the chart\n",
    "plt.tight_layout()\n",
    "plt.show()\n"
   ]
  },
  {
   "cell_type": "markdown",
   "id": "4a768d57",
   "metadata": {
    "papermill": {
     "duration": 0.01734,
     "end_time": "2023-06-01T14:21:34.343104",
     "exception": false,
     "start_time": "2023-06-01T14:21:34.325764",
     "status": "completed"
    },
    "tags": []
   },
   "source": [
    "***Question3: What time should we display advertisements to maximize likelihood of customer's buying product?***"
   ]
  },
  {
   "cell_type": "code",
   "execution_count": 35,
   "id": "794e897e",
   "metadata": {
    "execution": {
     "iopub.execute_input": "2023-06-01T14:21:34.379911Z",
     "iopub.status.busy": "2023-06-01T14:21:34.379508Z",
     "iopub.status.idle": "2023-06-01T14:21:34.395278Z",
     "shell.execute_reply": "2023-06-01T14:21:34.393900Z"
    },
    "papermill": {
     "duration": 0.036812,
     "end_time": "2023-06-01T14:21:34.397608",
     "exception": false,
     "start_time": "2023-06-01T14:21:34.360796",
     "status": "completed"
    },
    "tags": []
   },
   "outputs": [
    {
     "data": {
      "text/html": [
       "<div>\n",
       "<style scoped>\n",
       "    .dataframe tbody tr th:only-of-type {\n",
       "        vertical-align: middle;\n",
       "    }\n",
       "\n",
       "    .dataframe tbody tr th {\n",
       "        vertical-align: top;\n",
       "    }\n",
       "\n",
       "    .dataframe thead th {\n",
       "        text-align: right;\n",
       "    }\n",
       "</style>\n",
       "<table border=\"1\" class=\"dataframe\">\n",
       "  <thead>\n",
       "    <tr style=\"text-align: right;\">\n",
       "      <th></th>\n",
       "      <th>Order ID</th>\n",
       "      <th>Product</th>\n",
       "      <th>Quantity Ordered</th>\n",
       "      <th>Price Each</th>\n",
       "      <th>Order Date</th>\n",
       "      <th>Purchase Address</th>\n",
       "      <th>Month</th>\n",
       "      <th>Total Price</th>\n",
       "      <th>City</th>\n",
       "    </tr>\n",
       "  </thead>\n",
       "  <tbody>\n",
       "    <tr>\n",
       "      <th>0</th>\n",
       "      <td>295665</td>\n",
       "      <td>Macbook Pro Laptop</td>\n",
       "      <td>1.0</td>\n",
       "      <td>1700.00</td>\n",
       "      <td>2019-12-30 00:01:00</td>\n",
       "      <td>136 Church St, New York City, NY 10001</td>\n",
       "      <td>Dec</td>\n",
       "      <td>1700.00</td>\n",
       "      <td>New York City</td>\n",
       "    </tr>\n",
       "    <tr>\n",
       "      <th>1</th>\n",
       "      <td>295666</td>\n",
       "      <td>LG Washing Machine</td>\n",
       "      <td>1.0</td>\n",
       "      <td>600.00</td>\n",
       "      <td>2019-12-29 07:03:00</td>\n",
       "      <td>562 2nd St, New York City, NY 10001</td>\n",
       "      <td>Dec</td>\n",
       "      <td>600.00</td>\n",
       "      <td>New York City</td>\n",
       "    </tr>\n",
       "    <tr>\n",
       "      <th>2</th>\n",
       "      <td>295667</td>\n",
       "      <td>USB-C Charging Cable</td>\n",
       "      <td>1.0</td>\n",
       "      <td>11.95</td>\n",
       "      <td>2019-12-12 18:21:00</td>\n",
       "      <td>277 Main St, New York City, NY 10001</td>\n",
       "      <td>Dec</td>\n",
       "      <td>11.95</td>\n",
       "      <td>New York City</td>\n",
       "    </tr>\n",
       "    <tr>\n",
       "      <th>3</th>\n",
       "      <td>295668</td>\n",
       "      <td>27in FHD Monitor</td>\n",
       "      <td>1.0</td>\n",
       "      <td>149.99</td>\n",
       "      <td>2019-12-22 15:13:00</td>\n",
       "      <td>410 6th St, San Francisco, CA 94016</td>\n",
       "      <td>Dec</td>\n",
       "      <td>149.99</td>\n",
       "      <td>San Francisco</td>\n",
       "    </tr>\n",
       "    <tr>\n",
       "      <th>4</th>\n",
       "      <td>295669</td>\n",
       "      <td>USB-C Charging Cable</td>\n",
       "      <td>1.0</td>\n",
       "      <td>11.95</td>\n",
       "      <td>2019-12-18 12:38:00</td>\n",
       "      <td>43 Hill St, Atlanta, GA 30301</td>\n",
       "      <td>Dec</td>\n",
       "      <td>11.95</td>\n",
       "      <td>Atlanta</td>\n",
       "    </tr>\n",
       "  </tbody>\n",
       "</table>\n",
       "</div>"
      ],
      "text/plain": [
       "  Order ID               Product  Quantity Ordered  Price Each  \\\n",
       "0   295665    Macbook Pro Laptop               1.0     1700.00   \n",
       "1   295666    LG Washing Machine               1.0      600.00   \n",
       "2   295667  USB-C Charging Cable               1.0       11.95   \n",
       "3   295668      27in FHD Monitor               1.0      149.99   \n",
       "4   295669  USB-C Charging Cable               1.0       11.95   \n",
       "\n",
       "           Order Date                        Purchase Address Month  \\\n",
       "0 2019-12-30 00:01:00  136 Church St, New York City, NY 10001   Dec   \n",
       "1 2019-12-29 07:03:00     562 2nd St, New York City, NY 10001   Dec   \n",
       "2 2019-12-12 18:21:00    277 Main St, New York City, NY 10001   Dec   \n",
       "3 2019-12-22 15:13:00     410 6th St, San Francisco, CA 94016   Dec   \n",
       "4 2019-12-18 12:38:00           43 Hill St, Atlanta, GA 30301   Dec   \n",
       "\n",
       "   Total Price           City  \n",
       "0      1700.00  New York City  \n",
       "1       600.00  New York City  \n",
       "2        11.95  New York City  \n",
       "3       149.99  San Francisco  \n",
       "4        11.95        Atlanta  "
      ]
     },
     "execution_count": 35,
     "metadata": {},
     "output_type": "execute_result"
    }
   ],
   "source": [
    "sales.head()"
   ]
  },
  {
   "cell_type": "code",
   "execution_count": 36,
   "id": "f6651462",
   "metadata": {
    "execution": {
     "iopub.execute_input": "2023-06-01T14:21:34.433677Z",
     "iopub.status.busy": "2023-06-01T14:21:34.433341Z",
     "iopub.status.idle": "2023-06-01T14:21:34.453937Z",
     "shell.execute_reply": "2023-06-01T14:21:34.453015Z"
    },
    "papermill": {
     "duration": 0.041093,
     "end_time": "2023-06-01T14:21:34.455793",
     "exception": false,
     "start_time": "2023-06-01T14:21:34.414700",
     "status": "completed"
    },
    "tags": []
   },
   "outputs": [
    {
     "data": {
      "text/html": [
       "<div>\n",
       "<style scoped>\n",
       "    .dataframe tbody tr th:only-of-type {\n",
       "        vertical-align: middle;\n",
       "    }\n",
       "\n",
       "    .dataframe tbody tr th {\n",
       "        vertical-align: top;\n",
       "    }\n",
       "\n",
       "    .dataframe thead th {\n",
       "        text-align: right;\n",
       "    }\n",
       "</style>\n",
       "<table border=\"1\" class=\"dataframe\">\n",
       "  <thead>\n",
       "    <tr style=\"text-align: right;\">\n",
       "      <th></th>\n",
       "      <th>Order ID</th>\n",
       "      <th>Product</th>\n",
       "      <th>Quantity Ordered</th>\n",
       "      <th>Price Each</th>\n",
       "      <th>Order Date</th>\n",
       "      <th>Purchase Address</th>\n",
       "      <th>Month</th>\n",
       "      <th>Total Price</th>\n",
       "      <th>City</th>\n",
       "      <th>Purchase Hour</th>\n",
       "    </tr>\n",
       "  </thead>\n",
       "  <tbody>\n",
       "    <tr>\n",
       "      <th>0</th>\n",
       "      <td>295665</td>\n",
       "      <td>Macbook Pro Laptop</td>\n",
       "      <td>1.0</td>\n",
       "      <td>1700.00</td>\n",
       "      <td>2019-12-30 00:01:00</td>\n",
       "      <td>136 Church St, New York City, NY 10001</td>\n",
       "      <td>Dec</td>\n",
       "      <td>1700.00</td>\n",
       "      <td>New York City</td>\n",
       "      <td>1</td>\n",
       "    </tr>\n",
       "    <tr>\n",
       "      <th>1</th>\n",
       "      <td>295666</td>\n",
       "      <td>LG Washing Machine</td>\n",
       "      <td>1.0</td>\n",
       "      <td>600.00</td>\n",
       "      <td>2019-12-29 07:03:00</td>\n",
       "      <td>562 2nd St, New York City, NY 10001</td>\n",
       "      <td>Dec</td>\n",
       "      <td>600.00</td>\n",
       "      <td>New York City</td>\n",
       "      <td>8</td>\n",
       "    </tr>\n",
       "    <tr>\n",
       "      <th>2</th>\n",
       "      <td>295667</td>\n",
       "      <td>USB-C Charging Cable</td>\n",
       "      <td>1.0</td>\n",
       "      <td>11.95</td>\n",
       "      <td>2019-12-12 18:21:00</td>\n",
       "      <td>277 Main St, New York City, NY 10001</td>\n",
       "      <td>Dec</td>\n",
       "      <td>11.95</td>\n",
       "      <td>New York City</td>\n",
       "      <td>19</td>\n",
       "    </tr>\n",
       "    <tr>\n",
       "      <th>3</th>\n",
       "      <td>295668</td>\n",
       "      <td>27in FHD Monitor</td>\n",
       "      <td>1.0</td>\n",
       "      <td>149.99</td>\n",
       "      <td>2019-12-22 15:13:00</td>\n",
       "      <td>410 6th St, San Francisco, CA 94016</td>\n",
       "      <td>Dec</td>\n",
       "      <td>149.99</td>\n",
       "      <td>San Francisco</td>\n",
       "      <td>16</td>\n",
       "    </tr>\n",
       "    <tr>\n",
       "      <th>4</th>\n",
       "      <td>295669</td>\n",
       "      <td>USB-C Charging Cable</td>\n",
       "      <td>1.0</td>\n",
       "      <td>11.95</td>\n",
       "      <td>2019-12-18 12:38:00</td>\n",
       "      <td>43 Hill St, Atlanta, GA 30301</td>\n",
       "      <td>Dec</td>\n",
       "      <td>11.95</td>\n",
       "      <td>Atlanta</td>\n",
       "      <td>13</td>\n",
       "    </tr>\n",
       "  </tbody>\n",
       "</table>\n",
       "</div>"
      ],
      "text/plain": [
       "  Order ID               Product  Quantity Ordered  Price Each  \\\n",
       "0   295665    Macbook Pro Laptop               1.0     1700.00   \n",
       "1   295666    LG Washing Machine               1.0      600.00   \n",
       "2   295667  USB-C Charging Cable               1.0       11.95   \n",
       "3   295668      27in FHD Monitor               1.0      149.99   \n",
       "4   295669  USB-C Charging Cable               1.0       11.95   \n",
       "\n",
       "           Order Date                        Purchase Address Month  \\\n",
       "0 2019-12-30 00:01:00  136 Church St, New York City, NY 10001   Dec   \n",
       "1 2019-12-29 07:03:00     562 2nd St, New York City, NY 10001   Dec   \n",
       "2 2019-12-12 18:21:00    277 Main St, New York City, NY 10001   Dec   \n",
       "3 2019-12-22 15:13:00     410 6th St, San Francisco, CA 94016   Dec   \n",
       "4 2019-12-18 12:38:00           43 Hill St, Atlanta, GA 30301   Dec   \n",
       "\n",
       "   Total Price           City  Purchase Hour  \n",
       "0      1700.00  New York City              1  \n",
       "1       600.00  New York City              8  \n",
       "2        11.95  New York City             19  \n",
       "3       149.99  San Francisco             16  \n",
       "4        11.95        Atlanta             13  "
      ]
     },
     "execution_count": 36,
     "metadata": {},
     "output_type": "execute_result"
    }
   ],
   "source": [
    "# Create a new column with the time of purchase \n",
    "sales['Purchase Hour'] = sales['Order Date'].dt.hour + 1\n",
    "\n",
    "sales.head()\n",
    "\n"
   ]
  },
  {
   "cell_type": "code",
   "execution_count": 37,
   "id": "0e6959e4",
   "metadata": {
    "execution": {
     "iopub.execute_input": "2023-06-01T14:21:34.494305Z",
     "iopub.status.busy": "2023-06-01T14:21:34.493838Z",
     "iopub.status.idle": "2023-06-01T14:21:34.502993Z",
     "shell.execute_reply": "2023-06-01T14:21:34.501964Z"
    },
    "papermill": {
     "duration": 0.031,
     "end_time": "2023-06-01T14:21:34.505211",
     "exception": false,
     "start_time": "2023-06-01T14:21:34.474211",
     "status": "completed"
    },
    "tags": []
   },
   "outputs": [
    {
     "data": {
      "text/plain": [
       "array([ 1,  8, 19, 16, 13, 23, 10, 24, 12, 14, 18, 20, 15, 17,  2,  7, 11,\n",
       "       21, 22,  9,  4,  6,  3,  5])"
      ]
     },
     "execution_count": 37,
     "metadata": {},
     "output_type": "execute_result"
    }
   ],
   "source": [
    "# Lets have a look at all the unique values in Purchase Hour column \n",
    "sales['Purchase Hour'].unique()"
   ]
  },
  {
   "cell_type": "markdown",
   "id": "347848f5",
   "metadata": {
    "papermill": {
     "duration": 0.017256,
     "end_time": "2023-06-01T14:21:34.540187",
     "exception": false,
     "start_time": "2023-06-01T14:21:34.522931",
     "status": "completed"
    },
    "tags": []
   },
   "source": [
    "***Seems like the store is opened 24*7***"
   ]
  },
  {
   "cell_type": "code",
   "execution_count": 38,
   "id": "ae74eac7",
   "metadata": {
    "execution": {
     "iopub.execute_input": "2023-06-01T14:21:34.576628Z",
     "iopub.status.busy": "2023-06-01T14:21:34.576263Z",
     "iopub.status.idle": "2023-06-01T14:21:34.591093Z",
     "shell.execute_reply": "2023-06-01T14:21:34.590213Z"
    },
    "papermill": {
     "duration": 0.035677,
     "end_time": "2023-06-01T14:21:34.593234",
     "exception": false,
     "start_time": "2023-06-01T14:21:34.557557",
     "status": "completed"
    },
    "tags": []
   },
   "outputs": [
    {
     "data": {
      "text/html": [
       "<div>\n",
       "<style scoped>\n",
       "    .dataframe tbody tr th:only-of-type {\n",
       "        vertical-align: middle;\n",
       "    }\n",
       "\n",
       "    .dataframe tbody tr th {\n",
       "        vertical-align: top;\n",
       "    }\n",
       "\n",
       "    .dataframe thead th {\n",
       "        text-align: right;\n",
       "    }\n",
       "</style>\n",
       "<table border=\"1\" class=\"dataframe\">\n",
       "  <thead>\n",
       "    <tr style=\"text-align: right;\">\n",
       "      <th></th>\n",
       "      <th>Purchase Hour</th>\n",
       "      <th>Quantity Ordered</th>\n",
       "    </tr>\n",
       "  </thead>\n",
       "  <tbody>\n",
       "    <tr>\n",
       "      <th>0</th>\n",
       "      <td>1</td>\n",
       "      <td>4428</td>\n",
       "    </tr>\n",
       "    <tr>\n",
       "      <th>1</th>\n",
       "      <td>2</td>\n",
       "      <td>2619</td>\n",
       "    </tr>\n",
       "    <tr>\n",
       "      <th>2</th>\n",
       "      <td>3</td>\n",
       "      <td>1398</td>\n",
       "    </tr>\n",
       "    <tr>\n",
       "      <th>3</th>\n",
       "      <td>4</td>\n",
       "      <td>928</td>\n",
       "    </tr>\n",
       "    <tr>\n",
       "      <th>4</th>\n",
       "      <td>5</td>\n",
       "      <td>937</td>\n",
       "    </tr>\n",
       "  </tbody>\n",
       "</table>\n",
       "</div>"
      ],
      "text/plain": [
       "   Purchase Hour  Quantity Ordered\n",
       "0              1              4428\n",
       "1              2              2619\n",
       "2              3              1398\n",
       "3              4               928\n",
       "4              5               937"
      ]
     },
     "execution_count": 38,
     "metadata": {},
     "output_type": "execute_result"
    }
   ],
   "source": [
    "# Group the data by 'Purchase Hour' with respect to 'Quantity Ordered'\n",
    "purchase_hour_frequency = sales.groupby('Purchase Hour')['Quantity Ordered'].sum().reset_index()\n",
    "\n",
    "# Convert 'Total Price' column to integer type\n",
    "purchase_hour_frequency['Quantity Ordered'] = purchase_hour_frequency['Quantity Ordered'].astype(int)\n",
    "\n",
    "# Check the DataFrame\n",
    "purchase_hour_frequency.head()"
   ]
  },
  {
   "cell_type": "code",
   "execution_count": 39,
   "id": "a2685b8b",
   "metadata": {
    "execution": {
     "iopub.execute_input": "2023-06-01T14:21:34.629778Z",
     "iopub.status.busy": "2023-06-01T14:21:34.629420Z",
     "iopub.status.idle": "2023-06-01T14:21:34.822902Z",
     "shell.execute_reply": "2023-06-01T14:21:34.821777Z"
    },
    "papermill": {
     "duration": 0.214021,
     "end_time": "2023-06-01T14:21:34.824617",
     "exception": false,
     "start_time": "2023-06-01T14:21:34.610596",
     "status": "completed"
    },
    "tags": []
   },
   "outputs": [
    {
     "name": "stderr",
     "output_type": "stream",
     "text": [
      "/tmp/ipykernel_21/1729905431.py:4: MatplotlibDeprecationWarning: The seaborn styles shipped by Matplotlib are deprecated since 3.6, as they no longer correspond to the styles shipped by seaborn. However, they will remain available as 'seaborn-v0_8-<style>'. Alternatively, directly use the seaborn API instead.\n",
      "  plt.style.use('seaborn')\n"
     ]
    },
    {
     "data": {
      "image/png": "[encoded data removed]",
      "text/plain": [
       "<Figure size 800x550 with 1 Axes>"
      ]
     },
     "metadata": {},
     "output_type": "display_data"
    }
   ],
   "source": [
    "# Lets create a line graph for visualization \n",
    "\n",
    "# Set the style of the plot\n",
    "plt.style.use('seaborn')\n",
    "\n",
    "# Create the line graph\n",
    "plt.plot(purchase_hour_frequency['Purchase Hour'], purchase_hour_frequency['Quantity Ordered'], marker='o', linestyle='-', color='blue')\n",
    "\n",
    "# Set the title and axis labels\n",
    "plt.title('Quantity Ordered vs. Purchase Hour')\n",
    "plt.xlabel('Purchase Hour')\n",
    "plt.ylabel('Quantity Ordered')\n",
    "\n",
    "# Add grid lines\n",
    "plt.grid(True, linestyle='--')\n",
    "\n",
    "# Show the plot\n",
    "plt.show()\n"
   ]
  },
  {
   "cell_type": "markdown",
   "id": "f4d14cb3",
   "metadata": {
    "papermill": {
     "duration": 0.017617,
     "end_time": "2023-06-01T14:21:34.860092",
     "exception": false,
     "start_time": "2023-06-01T14:21:34.842475",
     "status": "completed"
    },
    "tags": []
   },
   "source": [
    "***Two peak hour ranges can be identified here:***\n",
    "\n",
    "***(11th hour to 15th hour) is one peak and (18th hour to 22nd hour is another peak)***\n",
    "\n",
    "***The advertisements can be positioned accordingly at these peak hours***"
   ]
  },
  {
   "cell_type": "markdown",
   "id": "6bbfa23a",
   "metadata": {
    "papermill": {
     "duration": 0.017953,
     "end_time": "2023-06-01T14:21:34.896435",
     "exception": false,
     "start_time": "2023-06-01T14:21:34.878482",
     "status": "completed"
    },
    "tags": []
   },
   "source": [
    "***Question4: What products are most often sold together?***"
   ]
  },
  {
   "cell_type": "markdown",
   "id": "995a24d6",
   "metadata": {
    "papermill": {
     "duration": 0.017717,
     "end_time": "2023-06-01T14:21:34.932416",
     "exception": false,
     "start_time": "2023-06-01T14:21:34.914699",
     "status": "completed"
    },
    "tags": []
   },
   "source": [
    "***It can be fairly assumed that the Products with the same OrderID are sold together***"
   ]
  },
  {
   "cell_type": "code",
   "execution_count": 40,
   "id": "76e03114",
   "metadata": {
    "execution": {
     "iopub.execute_input": "2023-06-01T14:21:34.970944Z",
     "iopub.status.busy": "2023-06-01T14:21:34.970596Z",
     "iopub.status.idle": "2023-06-01T14:21:35.771853Z",
     "shell.execute_reply": "2023-06-01T14:21:35.770953Z"
    },
    "papermill": {
     "duration": 0.82291,
     "end_time": "2023-06-01T14:21:35.773636",
     "exception": false,
     "start_time": "2023-06-01T14:21:34.950726",
     "status": "completed"
    },
    "tags": []
   },
   "outputs": [
    {
     "data": {
      "text/html": [
       "<div>\n",
       "<style scoped>\n",
       "    .dataframe tbody tr th:only-of-type {\n",
       "        vertical-align: middle;\n",
       "    }\n",
       "\n",
       "    .dataframe tbody tr th {\n",
       "        vertical-align: top;\n",
       "    }\n",
       "\n",
       "    .dataframe thead th {\n",
       "        text-align: right;\n",
       "    }\n",
       "</style>\n",
       "<table border=\"1\" class=\"dataframe\">\n",
       "  <thead>\n",
       "    <tr style=\"text-align: right;\">\n",
       "      <th></th>\n",
       "      <th>Order ID</th>\n",
       "      <th>Product</th>\n",
       "      <th>Quantity Ordered</th>\n",
       "      <th>Price Each</th>\n",
       "      <th>Order Date</th>\n",
       "      <th>Purchase Address</th>\n",
       "      <th>Month</th>\n",
       "      <th>Total Price</th>\n",
       "      <th>City</th>\n",
       "      <th>Purchase Hour</th>\n",
       "      <th>Grouped</th>\n",
       "    </tr>\n",
       "  </thead>\n",
       "  <tbody>\n",
       "    <tr>\n",
       "      <th>0</th>\n",
       "      <td>295681</td>\n",
       "      <td>Google Phone</td>\n",
       "      <td>1.0</td>\n",
       "      <td>600.00</td>\n",
       "      <td>2019-12-25 12:37:00</td>\n",
       "      <td>79 Elm St, Boston, MA 02215</td>\n",
       "      <td>Dec</td>\n",
       "      <td>600.00</td>\n",
       "      <td>Boston</td>\n",
       "      <td>13</td>\n",
       "      <td>Google Phone,USB-C Charging Cable,Bose SoundSp...</td>\n",
       "    </tr>\n",
       "    <tr>\n",
       "      <th>1</th>\n",
       "      <td>295681</td>\n",
       "      <td>USB-C Charging Cable</td>\n",
       "      <td>1.0</td>\n",
       "      <td>11.95</td>\n",
       "      <td>2019-12-25 12:37:00</td>\n",
       "      <td>79 Elm St, Boston, MA 02215</td>\n",
       "      <td>Dec</td>\n",
       "      <td>11.95</td>\n",
       "      <td>Boston</td>\n",
       "      <td>13</td>\n",
       "      <td>Google Phone,USB-C Charging Cable,Bose SoundSp...</td>\n",
       "    </tr>\n",
       "    <tr>\n",
       "      <th>2</th>\n",
       "      <td>295681</td>\n",
       "      <td>Bose SoundSport Headphones</td>\n",
       "      <td>1.0</td>\n",
       "      <td>99.99</td>\n",
       "      <td>2019-12-25 12:37:00</td>\n",
       "      <td>79 Elm St, Boston, MA 02215</td>\n",
       "      <td>Dec</td>\n",
       "      <td>99.99</td>\n",
       "      <td>Boston</td>\n",
       "      <td>13</td>\n",
       "      <td>Google Phone,USB-C Charging Cable,Bose SoundSp...</td>\n",
       "    </tr>\n",
       "    <tr>\n",
       "      <th>3</th>\n",
       "      <td>295681</td>\n",
       "      <td>Wired Headphones</td>\n",
       "      <td>1.0</td>\n",
       "      <td>11.99</td>\n",
       "      <td>2019-12-25 12:37:00</td>\n",
       "      <td>79 Elm St, Boston, MA 02215</td>\n",
       "      <td>Dec</td>\n",
       "      <td>11.99</td>\n",
       "      <td>Boston</td>\n",
       "      <td>13</td>\n",
       "      <td>Google Phone,USB-C Charging Cable,Bose SoundSp...</td>\n",
       "    </tr>\n",
       "    <tr>\n",
       "      <th>4</th>\n",
       "      <td>295698</td>\n",
       "      <td>Vareebadd Phone</td>\n",
       "      <td>1.0</td>\n",
       "      <td>400.00</td>\n",
       "      <td>2019-12-13 14:32:00</td>\n",
       "      <td>175 1st St, New York City, NY 10001</td>\n",
       "      <td>Dec</td>\n",
       "      <td>400.00</td>\n",
       "      <td>New York City</td>\n",
       "      <td>15</td>\n",
       "      <td>Vareebadd Phone,USB-C Charging Cable</td>\n",
       "    </tr>\n",
       "  </tbody>\n",
       "</table>\n",
       "</div>"
      ],
      "text/plain": [
       "  Order ID                     Product  Quantity Ordered  Price Each  \\\n",
       "0   295681                Google Phone               1.0      600.00   \n",
       "1   295681        USB-C Charging Cable               1.0       11.95   \n",
       "2   295681  Bose SoundSport Headphones               1.0       99.99   \n",
       "3   295681            Wired Headphones               1.0       11.99   \n",
       "4   295698             Vareebadd Phone               1.0      400.00   \n",
       "\n",
       "           Order Date                     Purchase Address Month  Total Price  \\\n",
       "0 2019-12-25 12:37:00          79 Elm St, Boston, MA 02215   Dec       600.00   \n",
       "1 2019-12-25 12:37:00          79 Elm St, Boston, MA 02215   Dec        11.95   \n",
       "2 2019-12-25 12:37:00          79 Elm St, Boston, MA 02215   Dec        99.99   \n",
       "3 2019-12-25 12:37:00          79 Elm St, Boston, MA 02215   Dec        11.99   \n",
       "4 2019-12-13 14:32:00  175 1st St, New York City, NY 10001   Dec       400.00   \n",
       "\n",
       "            City  Purchase Hour  \\\n",
       "0         Boston             13   \n",
       "1         Boston             13   \n",
       "2         Boston             13   \n",
       "3         Boston             13   \n",
       "4  New York City             15   \n",
       "\n",
       "                                             Grouped  \n",
       "0  Google Phone,USB-C Charging Cable,Bose SoundSp...  \n",
       "1  Google Phone,USB-C Charging Cable,Bose SoundSp...  \n",
       "2  Google Phone,USB-C Charging Cable,Bose SoundSp...  \n",
       "3  Google Phone,USB-C Charging Cable,Bose SoundSp...  \n",
       "4               Vareebadd Phone,USB-C Charging Cable  "
      ]
     },
     "execution_count": 40,
     "metadata": {},
     "output_type": "execute_result"
    }
   ],
   "source": [
    "# Create a new DataFrame with all the duplicated OrderID's \n",
    "df = sales[sales['Order ID'].duplicated(keep = False)].copy()\n",
    "\n",
    "# Create a new column 'Grouped' with all the products related to the Order ID\n",
    "df['Grouped'] = df.groupby('Order ID')['Product'].transform(lambda x: ','.join(x))\n",
    "\n",
    "# Reset the index \n",
    "df = df.reset_index(drop = True)\n",
    "\n",
    "df.head()"
   ]
  },
  {
   "cell_type": "code",
   "execution_count": 41,
   "id": "e743ff94",
   "metadata": {
    "execution": {
     "iopub.execute_input": "2023-06-01T14:21:35.812816Z",
     "iopub.status.busy": "2023-06-01T14:21:35.812452Z",
     "iopub.status.idle": "2023-06-01T14:21:35.832326Z",
     "shell.execute_reply": "2023-06-01T14:21:35.831321Z"
    },
    "papermill": {
     "duration": 0.041851,
     "end_time": "2023-06-01T14:21:35.834208",
     "exception": false,
     "start_time": "2023-06-01T14:21:35.792357",
     "status": "completed"
    },
    "tags": []
   },
   "outputs": [
    {
     "data": {
      "text/html": [
       "<div>\n",
       "<style scoped>\n",
       "    .dataframe tbody tr th:only-of-type {\n",
       "        vertical-align: middle;\n",
       "    }\n",
       "\n",
       "    .dataframe tbody tr th {\n",
       "        vertical-align: top;\n",
       "    }\n",
       "\n",
       "    .dataframe thead th {\n",
       "        text-align: right;\n",
       "    }\n",
       "</style>\n",
       "<table border=\"1\" class=\"dataframe\">\n",
       "  <thead>\n",
       "    <tr style=\"text-align: right;\">\n",
       "      <th></th>\n",
       "      <th>Order ID</th>\n",
       "      <th>Product</th>\n",
       "      <th>Quantity Ordered</th>\n",
       "      <th>Price Each</th>\n",
       "      <th>Order Date</th>\n",
       "      <th>Purchase Address</th>\n",
       "      <th>Month</th>\n",
       "      <th>Total Price</th>\n",
       "      <th>City</th>\n",
       "      <th>Purchase Hour</th>\n",
       "      <th>Grouped</th>\n",
       "    </tr>\n",
       "  </thead>\n",
       "  <tbody>\n",
       "    <tr>\n",
       "      <th>0</th>\n",
       "      <td>295681</td>\n",
       "      <td>Google Phone</td>\n",
       "      <td>1.0</td>\n",
       "      <td>600.00</td>\n",
       "      <td>2019-12-25 12:37:00</td>\n",
       "      <td>79 Elm St, Boston, MA 02215</td>\n",
       "      <td>Dec</td>\n",
       "      <td>600.00</td>\n",
       "      <td>Boston</td>\n",
       "      <td>13</td>\n",
       "      <td>Google Phone,USB-C Charging Cable,Bose SoundSp...</td>\n",
       "    </tr>\n",
       "    <tr>\n",
       "      <th>1</th>\n",
       "      <td>295698</td>\n",
       "      <td>Vareebadd Phone</td>\n",
       "      <td>1.0</td>\n",
       "      <td>400.00</td>\n",
       "      <td>2019-12-13 14:32:00</td>\n",
       "      <td>175 1st St, New York City, NY 10001</td>\n",
       "      <td>Dec</td>\n",
       "      <td>400.00</td>\n",
       "      <td>New York City</td>\n",
       "      <td>15</td>\n",
       "      <td>Vareebadd Phone,USB-C Charging Cable</td>\n",
       "    </tr>\n",
       "    <tr>\n",
       "      <th>2</th>\n",
       "      <td>295703</td>\n",
       "      <td>AA Batteries (4-pack)</td>\n",
       "      <td>1.0</td>\n",
       "      <td>3.84</td>\n",
       "      <td>2019-12-17 12:27:00</td>\n",
       "      <td>502 Jefferson St, Austin, TX 73301</td>\n",
       "      <td>Dec</td>\n",
       "      <td>3.84</td>\n",
       "      <td>Austin</td>\n",
       "      <td>13</td>\n",
       "      <td>AA Batteries (4-pack),Bose SoundSport Headphones</td>\n",
       "    </tr>\n",
       "    <tr>\n",
       "      <th>3</th>\n",
       "      <td>295726</td>\n",
       "      <td>iPhone</td>\n",
       "      <td>1.0</td>\n",
       "      <td>700.00</td>\n",
       "      <td>2019-12-25 14:49:00</td>\n",
       "      <td>203 Lakeview St, Boston, MA 02215</td>\n",
       "      <td>Dec</td>\n",
       "      <td>700.00</td>\n",
       "      <td>Boston</td>\n",
       "      <td>15</td>\n",
       "      <td>iPhone,Lightning Charging Cable</td>\n",
       "    </tr>\n",
       "    <tr>\n",
       "      <th>4</th>\n",
       "      <td>295735</td>\n",
       "      <td>iPhone</td>\n",
       "      <td>1.0</td>\n",
       "      <td>700.00</td>\n",
       "      <td>2019-12-22 18:25:00</td>\n",
       "      <td>374 Lincoln St, New York City, NY 10001</td>\n",
       "      <td>Dec</td>\n",
       "      <td>700.00</td>\n",
       "      <td>New York City</td>\n",
       "      <td>19</td>\n",
       "      <td>iPhone,Apple Airpods Headphones,Wired Headphones</td>\n",
       "    </tr>\n",
       "  </tbody>\n",
       "</table>\n",
       "</div>"
      ],
      "text/plain": [
       "  Order ID                Product  Quantity Ordered  Price Each  \\\n",
       "0   295681           Google Phone               1.0      600.00   \n",
       "1   295698        Vareebadd Phone               1.0      400.00   \n",
       "2   295703  AA Batteries (4-pack)               1.0        3.84   \n",
       "3   295726                 iPhone               1.0      700.00   \n",
       "4   295735                 iPhone               1.0      700.00   \n",
       "\n",
       "           Order Date                         Purchase Address Month  \\\n",
       "0 2019-12-25 12:37:00              79 Elm St, Boston, MA 02215   Dec   \n",
       "1 2019-12-13 14:32:00      175 1st St, New York City, NY 10001   Dec   \n",
       "2 2019-12-17 12:27:00       502 Jefferson St, Austin, TX 73301   Dec   \n",
       "3 2019-12-25 14:49:00        203 Lakeview St, Boston, MA 02215   Dec   \n",
       "4 2019-12-22 18:25:00  374 Lincoln St, New York City, NY 10001   Dec   \n",
       "\n",
       "   Total Price           City  Purchase Hour  \\\n",
       "0       600.00         Boston             13   \n",
       "1       400.00  New York City             15   \n",
       "2         3.84         Austin             13   \n",
       "3       700.00         Boston             15   \n",
       "4       700.00  New York City             19   \n",
       "\n",
       "                                             Grouped  \n",
       "0  Google Phone,USB-C Charging Cable,Bose SoundSp...  \n",
       "1               Vareebadd Phone,USB-C Charging Cable  \n",
       "2   AA Batteries (4-pack),Bose SoundSport Headphones  \n",
       "3                    iPhone,Lightning Charging Cable  \n",
       "4   iPhone,Apple Airpods Headphones,Wired Headphones  "
      ]
     },
     "execution_count": 41,
     "metadata": {},
     "output_type": "execute_result"
    }
   ],
   "source": [
    "# Removing duplicated columns \n",
    "df = df.drop_duplicates(subset = 'Order ID').reset_index(drop = True)\n",
    "\n",
    "# Check the Data Frame\n",
    "df.head()"
   ]
  },
  {
   "cell_type": "code",
   "execution_count": 42,
   "id": "abd74897",
   "metadata": {
    "execution": {
     "iopub.execute_input": "2023-06-01T14:21:35.873434Z",
     "iopub.status.busy": "2023-06-01T14:21:35.873046Z",
     "iopub.status.idle": "2023-06-01T14:21:36.126605Z",
     "shell.execute_reply": "2023-06-01T14:21:36.125246Z"
    },
    "papermill": {
     "duration": 0.276024,
     "end_time": "2023-06-01T14:21:36.129028",
     "exception": false,
     "start_time": "2023-06-01T14:21:35.853004",
     "status": "completed"
    },
    "scrolled": true,
    "tags": []
   },
   "outputs": [
    {
     "data": {
      "text/html": [
       "<div>\n",
       "<style scoped>\n",
       "    .dataframe tbody tr th:only-of-type {\n",
       "        vertical-align: middle;\n",
       "    }\n",
       "\n",
       "    .dataframe tbody tr th {\n",
       "        vertical-align: top;\n",
       "    }\n",
       "\n",
       "    .dataframe thead th {\n",
       "        text-align: right;\n",
       "    }\n",
       "</style>\n",
       "<table border=\"1\" class=\"dataframe\">\n",
       "  <thead>\n",
       "    <tr style=\"text-align: right;\">\n",
       "      <th></th>\n",
       "      <th>Combination</th>\n",
       "      <th>Count</th>\n",
       "    </tr>\n",
       "  </thead>\n",
       "  <tbody>\n",
       "    <tr>\n",
       "      <th>0</th>\n",
       "      <td>iPhone,Lightning Charging Cable</td>\n",
       "      <td>882</td>\n",
       "    </tr>\n",
       "    <tr>\n",
       "      <th>1</th>\n",
       "      <td>Google Phone,USB-C Charging Cable</td>\n",
       "      <td>856</td>\n",
       "    </tr>\n",
       "    <tr>\n",
       "      <th>2</th>\n",
       "      <td>iPhone,Wired Headphones</td>\n",
       "      <td>361</td>\n",
       "    </tr>\n",
       "    <tr>\n",
       "      <th>3</th>\n",
       "      <td>Vareebadd Phone,USB-C Charging Cable</td>\n",
       "      <td>312</td>\n",
       "    </tr>\n",
       "    <tr>\n",
       "      <th>4</th>\n",
       "      <td>Google Phone,Wired Headphones</td>\n",
       "      <td>303</td>\n",
       "    </tr>\n",
       "    <tr>\n",
       "      <th>5</th>\n",
       "      <td>iPhone,Apple Airpods Headphones</td>\n",
       "      <td>286</td>\n",
       "    </tr>\n",
       "    <tr>\n",
       "      <th>6</th>\n",
       "      <td>Google Phone,Bose SoundSport Headphones</td>\n",
       "      <td>161</td>\n",
       "    </tr>\n",
       "    <tr>\n",
       "      <th>7</th>\n",
       "      <td>Vareebadd Phone,Wired Headphones</td>\n",
       "      <td>104</td>\n",
       "    </tr>\n",
       "    <tr>\n",
       "      <th>8</th>\n",
       "      <td>Google Phone,USB-C Charging Cable,Wired Headph...</td>\n",
       "      <td>77</td>\n",
       "    </tr>\n",
       "    <tr>\n",
       "      <th>9</th>\n",
       "      <td>Vareebadd Phone,Bose SoundSport Headphones</td>\n",
       "      <td>60</td>\n",
       "    </tr>\n",
       "  </tbody>\n",
       "</table>\n",
       "</div>"
      ],
      "text/plain": [
       "                                         Combination Count\n",
       "0                    iPhone,Lightning Charging Cable   882\n",
       "1                  Google Phone,USB-C Charging Cable   856\n",
       "2                            iPhone,Wired Headphones   361\n",
       "3               Vareebadd Phone,USB-C Charging Cable   312\n",
       "4                      Google Phone,Wired Headphones   303\n",
       "5                    iPhone,Apple Airpods Headphones   286\n",
       "6            Google Phone,Bose SoundSport Headphones   161\n",
       "7                   Vareebadd Phone,Wired Headphones   104\n",
       "8  Google Phone,USB-C Charging Cable,Wired Headph...    77\n",
       "9         Vareebadd Phone,Bose SoundSport Headphones    60"
      ]
     },
     "execution_count": 42,
     "metadata": {},
     "output_type": "execute_result"
    }
   ],
   "source": [
    "# Create a new DataFrame to store the combinations and counts\n",
    "combination_counts = pd.DataFrame(columns=['Combination', 'Count'])\n",
    "\n",
    "# Iterate over the 'Grouped' column and count the combinations\n",
    "for combination, count in df['Grouped'].value_counts().items():\n",
    "    combination_counts = pd.concat([combination_counts, pd.DataFrame({'Combination': [combination], 'Count': [count]})])\n",
    "\n",
    "# Reset the index of the new DataFrame\n",
    "combination_counts = combination_counts.sort_values(by='Count', ascending=False).reset_index(drop=True)\n",
    "\n",
    "# Display the Top Ten Combinations \n",
    "top_ten_combinations = combination_counts.head(10)\n",
    "\n",
    "# Display the new DataFrame\n",
    "top_ten_combinations\n"
   ]
  },
  {
   "cell_type": "markdown",
   "id": "723bdde1",
   "metadata": {
    "papermill": {
     "duration": 0.018595,
     "end_time": "2023-06-01T14:21:36.166535",
     "exception": false,
     "start_time": "2023-06-01T14:21:36.147940",
     "status": "completed"
    },
    "tags": []
   },
   "source": [
    "***Now lets create a visualisation for the Top Ten combinations***"
   ]
  },
  {
   "cell_type": "code",
   "execution_count": 43,
   "id": "c4116ef4",
   "metadata": {
    "execution": {
     "iopub.execute_input": "2023-06-01T14:21:36.206118Z",
     "iopub.status.busy": "2023-06-01T14:21:36.205784Z",
     "iopub.status.idle": "2023-06-01T14:21:36.436772Z",
     "shell.execute_reply": "2023-06-01T14:21:36.436065Z"
    },
    "papermill": {
     "duration": 0.253517,
     "end_time": "2023-06-01T14:21:36.438764",
     "exception": false,
     "start_time": "2023-06-01T14:21:36.185247",
     "status": "completed"
    },
    "scrolled": true,
    "tags": []
   },
   "outputs": [
    {
     "data": {
      "image/png": "[encoded data removed]",
      "text/plain": [
       "<Figure size 800x800 with 1 Axes>"
      ]
     },
     "metadata": {},
     "output_type": "display_data"
    }
   ],
   "source": [
    "# Create a pie chart for the top ten combinations\n",
    "\n",
    "# Set the figure size\n",
    "plt.figure(figsize=(8, 8))  \n",
    "plt.pie(top_ten_combinations['Count'], labels=top_ten_combinations['Combination'], autopct='%1.1f%%', textprops={'weight': 'bold'})\n",
    "plt.title('Top Ten Combinations', fontweight = 'bold')\n",
    "\n",
    "# Equal aspect ratio to ensure that pie is drawn as a circle\n",
    "plt.axis('equal') \n",
    "\n",
    "# Show the plot \n",
    "plt.show()\n"
   ]
  },
  {
   "cell_type": "markdown",
   "id": "8157e302",
   "metadata": {
    "papermill": {
     "duration": 0.019719,
     "end_time": "2023-06-01T14:21:36.479730",
     "exception": false,
     "start_time": "2023-06-01T14:21:36.460011",
     "status": "completed"
    },
    "tags": []
   },
   "source": [
    "***The plot shows how Iphone with Lightning Charging Cable and Google Phone with USB_C Charging Cable are a major chunk of the Top Ten combinations***"
   ]
  },
  {
   "cell_type": "markdown",
   "id": "5e6e0888",
   "metadata": {
    "papermill": {
     "duration": 0.01914,
     "end_time": "2023-06-01T14:21:36.518569",
     "exception": false,
     "start_time": "2023-06-01T14:21:36.499429",
     "status": "completed"
    },
    "tags": []
   },
   "source": [
    "***Question5: What product sold the most?***"
   ]
  },
  {
   "cell_type": "code",
   "execution_count": 44,
   "id": "3494299a",
   "metadata": {
    "execution": {
     "iopub.execute_input": "2023-06-01T14:21:36.559284Z",
     "iopub.status.busy": "2023-06-01T14:21:36.558884Z",
     "iopub.status.idle": "2023-06-01T14:21:36.572625Z",
     "shell.execute_reply": "2023-06-01T14:21:36.571597Z"
    },
    "papermill": {
     "duration": 0.036356,
     "end_time": "2023-06-01T14:21:36.574378",
     "exception": false,
     "start_time": "2023-06-01T14:21:36.538022",
     "status": "completed"
    },
    "tags": []
   },
   "outputs": [
    {
     "data": {
      "text/html": [
       "<div>\n",
       "<style scoped>\n",
       "    .dataframe tbody tr th:only-of-type {\n",
       "        vertical-align: middle;\n",
       "    }\n",
       "\n",
       "    .dataframe tbody tr th {\n",
       "        vertical-align: top;\n",
       "    }\n",
       "\n",
       "    .dataframe thead th {\n",
       "        text-align: right;\n",
       "    }\n",
       "</style>\n",
       "<table border=\"1\" class=\"dataframe\">\n",
       "  <thead>\n",
       "    <tr style=\"text-align: right;\">\n",
       "      <th></th>\n",
       "      <th>Order ID</th>\n",
       "      <th>Product</th>\n",
       "      <th>Quantity Ordered</th>\n",
       "      <th>Price Each</th>\n",
       "      <th>Order Date</th>\n",
       "      <th>Purchase Address</th>\n",
       "      <th>Month</th>\n",
       "      <th>Total Price</th>\n",
       "      <th>City</th>\n",
       "      <th>Purchase Hour</th>\n",
       "    </tr>\n",
       "  </thead>\n",
       "  <tbody>\n",
       "    <tr>\n",
       "      <th>0</th>\n",
       "      <td>295665</td>\n",
       "      <td>Macbook Pro Laptop</td>\n",
       "      <td>1.0</td>\n",
       "      <td>1700.00</td>\n",
       "      <td>2019-12-30 00:01:00</td>\n",
       "      <td>136 Church St, New York City, NY 10001</td>\n",
       "      <td>Dec</td>\n",
       "      <td>1700.00</td>\n",
       "      <td>New York City</td>\n",
       "      <td>1</td>\n",
       "    </tr>\n",
       "    <tr>\n",
       "      <th>1</th>\n",
       "      <td>295666</td>\n",
       "      <td>LG Washing Machine</td>\n",
       "      <td>1.0</td>\n",
       "      <td>600.00</td>\n",
       "      <td>2019-12-29 07:03:00</td>\n",
       "      <td>562 2nd St, New York City, NY 10001</td>\n",
       "      <td>Dec</td>\n",
       "      <td>600.00</td>\n",
       "      <td>New York City</td>\n",
       "      <td>8</td>\n",
       "    </tr>\n",
       "    <tr>\n",
       "      <th>2</th>\n",
       "      <td>295667</td>\n",
       "      <td>USB-C Charging Cable</td>\n",
       "      <td>1.0</td>\n",
       "      <td>11.95</td>\n",
       "      <td>2019-12-12 18:21:00</td>\n",
       "      <td>277 Main St, New York City, NY 10001</td>\n",
       "      <td>Dec</td>\n",
       "      <td>11.95</td>\n",
       "      <td>New York City</td>\n",
       "      <td>19</td>\n",
       "    </tr>\n",
       "    <tr>\n",
       "      <th>3</th>\n",
       "      <td>295668</td>\n",
       "      <td>27in FHD Monitor</td>\n",
       "      <td>1.0</td>\n",
       "      <td>149.99</td>\n",
       "      <td>2019-12-22 15:13:00</td>\n",
       "      <td>410 6th St, San Francisco, CA 94016</td>\n",
       "      <td>Dec</td>\n",
       "      <td>149.99</td>\n",
       "      <td>San Francisco</td>\n",
       "      <td>16</td>\n",
       "    </tr>\n",
       "    <tr>\n",
       "      <th>4</th>\n",
       "      <td>295669</td>\n",
       "      <td>USB-C Charging Cable</td>\n",
       "      <td>1.0</td>\n",
       "      <td>11.95</td>\n",
       "      <td>2019-12-18 12:38:00</td>\n",
       "      <td>43 Hill St, Atlanta, GA 30301</td>\n",
       "      <td>Dec</td>\n",
       "      <td>11.95</td>\n",
       "      <td>Atlanta</td>\n",
       "      <td>13</td>\n",
       "    </tr>\n",
       "  </tbody>\n",
       "</table>\n",
       "</div>"
      ],
      "text/plain": [
       "  Order ID               Product  Quantity Ordered  Price Each  \\\n",
       "0   295665    Macbook Pro Laptop               1.0     1700.00   \n",
       "1   295666    LG Washing Machine               1.0      600.00   \n",
       "2   295667  USB-C Charging Cable               1.0       11.95   \n",
       "3   295668      27in FHD Monitor               1.0      149.99   \n",
       "4   295669  USB-C Charging Cable               1.0       11.95   \n",
       "\n",
       "           Order Date                        Purchase Address Month  \\\n",
       "0 2019-12-30 00:01:00  136 Church St, New York City, NY 10001   Dec   \n",
       "1 2019-12-29 07:03:00     562 2nd St, New York City, NY 10001   Dec   \n",
       "2 2019-12-12 18:21:00    277 Main St, New York City, NY 10001   Dec   \n",
       "3 2019-12-22 15:13:00     410 6th St, San Francisco, CA 94016   Dec   \n",
       "4 2019-12-18 12:38:00           43 Hill St, Atlanta, GA 30301   Dec   \n",
       "\n",
       "   Total Price           City  Purchase Hour  \n",
       "0      1700.00  New York City              1  \n",
       "1       600.00  New York City              8  \n",
       "2        11.95  New York City             19  \n",
       "3       149.99  San Francisco             16  \n",
       "4        11.95        Atlanta             13  "
      ]
     },
     "execution_count": 44,
     "metadata": {},
     "output_type": "execute_result"
    }
   ],
   "source": [
    "sales.head()"
   ]
  },
  {
   "cell_type": "code",
   "execution_count": 45,
   "id": "86bc9f29",
   "metadata": {
    "execution": {
     "iopub.execute_input": "2023-06-01T14:21:36.618339Z",
     "iopub.status.busy": "2023-06-01T14:21:36.616975Z",
     "iopub.status.idle": "2023-06-01T14:21:36.646863Z",
     "shell.execute_reply": "2023-06-01T14:21:36.646154Z"
    },
    "papermill": {
     "duration": 0.053425,
     "end_time": "2023-06-01T14:21:36.648797",
     "exception": false,
     "start_time": "2023-06-01T14:21:36.595372",
     "status": "completed"
    },
    "tags": []
   },
   "outputs": [
    {
     "data": {
      "text/html": [
       "<div>\n",
       "<style scoped>\n",
       "    .dataframe tbody tr th:only-of-type {\n",
       "        vertical-align: middle;\n",
       "    }\n",
       "\n",
       "    .dataframe tbody tr th {\n",
       "        vertical-align: top;\n",
       "    }\n",
       "\n",
       "    .dataframe thead th {\n",
       "        text-align: right;\n",
       "    }\n",
       "</style>\n",
       "<table border=\"1\" class=\"dataframe\">\n",
       "  <thead>\n",
       "    <tr style=\"text-align: right;\">\n",
       "      <th></th>\n",
       "      <th>Product</th>\n",
       "      <th>Quantity Ordered</th>\n",
       "    </tr>\n",
       "  </thead>\n",
       "  <tbody>\n",
       "    <tr>\n",
       "      <th>0</th>\n",
       "      <td>20in Monitor</td>\n",
       "      <td>4129.0</td>\n",
       "    </tr>\n",
       "    <tr>\n",
       "      <th>1</th>\n",
       "      <td>27in 4K Gaming Monitor</td>\n",
       "      <td>6244.0</td>\n",
       "    </tr>\n",
       "    <tr>\n",
       "      <th>2</th>\n",
       "      <td>27in FHD Monitor</td>\n",
       "      <td>7550.0</td>\n",
       "    </tr>\n",
       "    <tr>\n",
       "      <th>3</th>\n",
       "      <td>34in Ultrawide Monitor</td>\n",
       "      <td>6199.0</td>\n",
       "    </tr>\n",
       "    <tr>\n",
       "      <th>4</th>\n",
       "      <td>AA Batteries (4-pack)</td>\n",
       "      <td>27635.0</td>\n",
       "    </tr>\n",
       "    <tr>\n",
       "      <th>5</th>\n",
       "      <td>AAA Batteries (4-pack)</td>\n",
       "      <td>31017.0</td>\n",
       "    </tr>\n",
       "    <tr>\n",
       "      <th>6</th>\n",
       "      <td>Apple Airpods Headphones</td>\n",
       "      <td>15661.0</td>\n",
       "    </tr>\n",
       "    <tr>\n",
       "      <th>7</th>\n",
       "      <td>Bose SoundSport Headphones</td>\n",
       "      <td>13457.0</td>\n",
       "    </tr>\n",
       "    <tr>\n",
       "      <th>8</th>\n",
       "      <td>Flatscreen TV</td>\n",
       "      <td>4819.0</td>\n",
       "    </tr>\n",
       "    <tr>\n",
       "      <th>9</th>\n",
       "      <td>Google Phone</td>\n",
       "      <td>5532.0</td>\n",
       "    </tr>\n",
       "    <tr>\n",
       "      <th>10</th>\n",
       "      <td>LG Dryer</td>\n",
       "      <td>646.0</td>\n",
       "    </tr>\n",
       "    <tr>\n",
       "      <th>11</th>\n",
       "      <td>LG Washing Machine</td>\n",
       "      <td>666.0</td>\n",
       "    </tr>\n",
       "    <tr>\n",
       "      <th>12</th>\n",
       "      <td>Lightning Charging Cable</td>\n",
       "      <td>23217.0</td>\n",
       "    </tr>\n",
       "    <tr>\n",
       "      <th>13</th>\n",
       "      <td>Macbook Pro Laptop</td>\n",
       "      <td>4728.0</td>\n",
       "    </tr>\n",
       "    <tr>\n",
       "      <th>14</th>\n",
       "      <td>ThinkPad Laptop</td>\n",
       "      <td>4130.0</td>\n",
       "    </tr>\n",
       "    <tr>\n",
       "      <th>15</th>\n",
       "      <td>USB-C Charging Cable</td>\n",
       "      <td>23975.0</td>\n",
       "    </tr>\n",
       "    <tr>\n",
       "      <th>16</th>\n",
       "      <td>Vareebadd Phone</td>\n",
       "      <td>2068.0</td>\n",
       "    </tr>\n",
       "    <tr>\n",
       "      <th>17</th>\n",
       "      <td>Wired Headphones</td>\n",
       "      <td>20557.0</td>\n",
       "    </tr>\n",
       "    <tr>\n",
       "      <th>18</th>\n",
       "      <td>iPhone</td>\n",
       "      <td>6849.0</td>\n",
       "    </tr>\n",
       "  </tbody>\n",
       "</table>\n",
       "</div>"
      ],
      "text/plain": [
       "                       Product  Quantity Ordered\n",
       "0                 20in Monitor            4129.0\n",
       "1       27in 4K Gaming Monitor            6244.0\n",
       "2             27in FHD Monitor            7550.0\n",
       "3       34in Ultrawide Monitor            6199.0\n",
       "4        AA Batteries (4-pack)           27635.0\n",
       "5       AAA Batteries (4-pack)           31017.0\n",
       "6     Apple Airpods Headphones           15661.0\n",
       "7   Bose SoundSport Headphones           13457.0\n",
       "8                Flatscreen TV            4819.0\n",
       "9                 Google Phone            5532.0\n",
       "10                    LG Dryer             646.0\n",
       "11          LG Washing Machine             666.0\n",
       "12    Lightning Charging Cable           23217.0\n",
       "13          Macbook Pro Laptop            4728.0\n",
       "14             ThinkPad Laptop            4130.0\n",
       "15        USB-C Charging Cable           23975.0\n",
       "16             Vareebadd Phone            2068.0\n",
       "17            Wired Headphones           20557.0\n",
       "18                      iPhone            6849.0"
      ]
     },
     "execution_count": 45,
     "metadata": {},
     "output_type": "execute_result"
    }
   ],
   "source": [
    "# Group data by Product w.r.t. Quantity Ordered\n",
    "products_sold = sales.groupby('Product')['Quantity Ordered'].sum().reset_index()\n",
    "\n",
    "# Check the DataFrame \n",
    "products_sold"
   ]
  },
  {
   "cell_type": "markdown",
   "id": "2441db61",
   "metadata": {
    "papermill": {
     "duration": 0.02057,
     "end_time": "2023-06-01T14:21:36.690784",
     "exception": false,
     "start_time": "2023-06-01T14:21:36.670214",
     "status": "completed"
    },
    "tags": []
   },
   "source": [
    "***Let's see Top 5 best performing products and give them a visualization for our stakeholders***"
   ]
  },
  {
   "cell_type": "code",
   "execution_count": 46,
   "id": "7e54ddfc",
   "metadata": {
    "execution": {
     "iopub.execute_input": "2023-06-01T14:21:36.733417Z",
     "iopub.status.busy": "2023-06-01T14:21:36.732828Z",
     "iopub.status.idle": "2023-06-01T14:21:36.745079Z",
     "shell.execute_reply": "2023-06-01T14:21:36.743915Z"
    },
    "papermill": {
     "duration": 0.036891,
     "end_time": "2023-06-01T14:21:36.747960",
     "exception": false,
     "start_time": "2023-06-01T14:21:36.711069",
     "status": "completed"
    },
    "tags": []
   },
   "outputs": [
    {
     "data": {
      "text/html": [
       "<div>\n",
       "<style scoped>\n",
       "    .dataframe tbody tr th:only-of-type {\n",
       "        vertical-align: middle;\n",
       "    }\n",
       "\n",
       "    .dataframe tbody tr th {\n",
       "        vertical-align: top;\n",
       "    }\n",
       "\n",
       "    .dataframe thead th {\n",
       "        text-align: right;\n",
       "    }\n",
       "</style>\n",
       "<table border=\"1\" class=\"dataframe\">\n",
       "  <thead>\n",
       "    <tr style=\"text-align: right;\">\n",
       "      <th></th>\n",
       "      <th>Product</th>\n",
       "      <th>Quantity Ordered</th>\n",
       "    </tr>\n",
       "  </thead>\n",
       "  <tbody>\n",
       "    <tr>\n",
       "      <th>0</th>\n",
       "      <td>AAA Batteries (4-pack)</td>\n",
       "      <td>31017</td>\n",
       "    </tr>\n",
       "    <tr>\n",
       "      <th>1</th>\n",
       "      <td>AA Batteries (4-pack)</td>\n",
       "      <td>27635</td>\n",
       "    </tr>\n",
       "    <tr>\n",
       "      <th>2</th>\n",
       "      <td>USB-C Charging Cable</td>\n",
       "      <td>23975</td>\n",
       "    </tr>\n",
       "    <tr>\n",
       "      <th>3</th>\n",
       "      <td>Lightning Charging Cable</td>\n",
       "      <td>23217</td>\n",
       "    </tr>\n",
       "    <tr>\n",
       "      <th>4</th>\n",
       "      <td>Wired Headphones</td>\n",
       "      <td>20557</td>\n",
       "    </tr>\n",
       "    <tr>\n",
       "      <th>5</th>\n",
       "      <td>Apple Airpods Headphones</td>\n",
       "      <td>15661</td>\n",
       "    </tr>\n",
       "    <tr>\n",
       "      <th>6</th>\n",
       "      <td>Bose SoundSport Headphones</td>\n",
       "      <td>13457</td>\n",
       "    </tr>\n",
       "    <tr>\n",
       "      <th>7</th>\n",
       "      <td>27in FHD Monitor</td>\n",
       "      <td>7550</td>\n",
       "    </tr>\n",
       "    <tr>\n",
       "      <th>8</th>\n",
       "      <td>iPhone</td>\n",
       "      <td>6849</td>\n",
       "    </tr>\n",
       "    <tr>\n",
       "      <th>9</th>\n",
       "      <td>27in 4K Gaming Monitor</td>\n",
       "      <td>6244</td>\n",
       "    </tr>\n",
       "    <tr>\n",
       "      <th>10</th>\n",
       "      <td>34in Ultrawide Monitor</td>\n",
       "      <td>6199</td>\n",
       "    </tr>\n",
       "    <tr>\n",
       "      <th>11</th>\n",
       "      <td>Google Phone</td>\n",
       "      <td>5532</td>\n",
       "    </tr>\n",
       "    <tr>\n",
       "      <th>12</th>\n",
       "      <td>Flatscreen TV</td>\n",
       "      <td>4819</td>\n",
       "    </tr>\n",
       "    <tr>\n",
       "      <th>13</th>\n",
       "      <td>Macbook Pro Laptop</td>\n",
       "      <td>4728</td>\n",
       "    </tr>\n",
       "    <tr>\n",
       "      <th>14</th>\n",
       "      <td>ThinkPad Laptop</td>\n",
       "      <td>4130</td>\n",
       "    </tr>\n",
       "    <tr>\n",
       "      <th>15</th>\n",
       "      <td>20in Monitor</td>\n",
       "      <td>4129</td>\n",
       "    </tr>\n",
       "    <tr>\n",
       "      <th>16</th>\n",
       "      <td>Vareebadd Phone</td>\n",
       "      <td>2068</td>\n",
       "    </tr>\n",
       "    <tr>\n",
       "      <th>17</th>\n",
       "      <td>LG Washing Machine</td>\n",
       "      <td>666</td>\n",
       "    </tr>\n",
       "    <tr>\n",
       "      <th>18</th>\n",
       "      <td>LG Dryer</td>\n",
       "      <td>646</td>\n",
       "    </tr>\n",
       "  </tbody>\n",
       "</table>\n",
       "</div>"
      ],
      "text/plain": [
       "                       Product  Quantity Ordered\n",
       "0       AAA Batteries (4-pack)             31017\n",
       "1        AA Batteries (4-pack)             27635\n",
       "2         USB-C Charging Cable             23975\n",
       "3     Lightning Charging Cable             23217\n",
       "4             Wired Headphones             20557\n",
       "5     Apple Airpods Headphones             15661\n",
       "6   Bose SoundSport Headphones             13457\n",
       "7             27in FHD Monitor              7550\n",
       "8                       iPhone              6849\n",
       "9       27in 4K Gaming Monitor              6244\n",
       "10      34in Ultrawide Monitor              6199\n",
       "11                Google Phone              5532\n",
       "12               Flatscreen TV              4819\n",
       "13          Macbook Pro Laptop              4728\n",
       "14             ThinkPad Laptop              4130\n",
       "15                20in Monitor              4129\n",
       "16             Vareebadd Phone              2068\n",
       "17          LG Washing Machine               666\n",
       "18                    LG Dryer               646"
      ]
     },
     "execution_count": 46,
     "metadata": {},
     "output_type": "execute_result"
    }
   ],
   "source": [
    "top_products_sold = products_sold.nlargest(20, 'Quantity Ordered').reset_index(drop = True)\n",
    "\n",
    "top_products_sold['Quantity Ordered'] = top_products_sold['Quantity Ordered'].astype(int)\n",
    "\n",
    "top_products_sold\n"
   ]
  },
  {
   "cell_type": "code",
   "execution_count": 47,
   "id": "f8acd815",
   "metadata": {
    "execution": {
     "iopub.execute_input": "2023-06-01T14:21:36.793671Z",
     "iopub.status.busy": "2023-06-01T14:21:36.793323Z",
     "iopub.status.idle": "2023-06-01T14:21:37.176306Z",
     "shell.execute_reply": "2023-06-01T14:21:37.175366Z"
    },
    "papermill": {
     "duration": 0.40847,
     "end_time": "2023-06-01T14:21:37.178381",
     "exception": false,
     "start_time": "2023-06-01T14:21:36.769911",
     "status": "completed"
    },
    "tags": []
   },
   "outputs": [
    {
     "name": "stderr",
     "output_type": "stream",
     "text": [
      "/tmp/ipykernel_21/2455933282.py:2: MatplotlibDeprecationWarning: The seaborn styles shipped by Matplotlib are deprecated since 3.6, as they no longer correspond to the styles shipped by seaborn. However, they will remain available as 'seaborn-v0_8-<style>'. Alternatively, directly use the seaborn API instead.\n",
      "  plt.style.use('seaborn')\n"
     ]
    },
    {
     "data": {
      "image/png": "[encoded data removed]",
      "text/plain": [
       "<Figure size 1000x600 with 1 Axes>"
      ]
     },
     "metadata": {},
     "output_type": "display_data"
    }
   ],
   "source": [
    "# Set the style of the chart\n",
    "plt.style.use('seaborn')\n",
    "\n",
    "# Create a figure and axes\n",
    "fig, ax = plt.subplots(figsize = (10,6))\n",
    "\n",
    "# Set the x-axis values and the corresponding heights\n",
    "x_values = top_products_sold['Product']\n",
    "y_values = top_products_sold['Quantity Ordered']\n",
    "\n",
    "# Create an array of colors for the bars\n",
    "colors = plt.cm.Set3(np.arange(len(x_values)))\n",
    "\n",
    "# Create the bar chart with colored bars\n",
    "ax.bar(x_values, y_values, color=colors)\n",
    "\n",
    "# Add labels to the bars\n",
    "for i, v in enumerate(y_values):\n",
    "    ax.text(i, v, str(round(v, 2)), ha='center', va='bottom', fontweight = 'bold')\n",
    "    \n",
    "# Set labels and title\n",
    "ax.set_xlabel('Product', fontweight = 'bold')\n",
    "ax.set_ylabel('Quantity Ordered', fontweight = 'bold')\n",
    "ax.set_title('Top 5 Products', fontweight = 'bold')\n",
    "\n",
    "# Rotate the x-axis labels for better readability\n",
    "plt.xticks(rotation=45)\n",
    "\n",
    "# Display the chart\n",
    "plt.tight_layout()\n",
    "plt.show()\n"
   ]
  },
  {
   "cell_type": "markdown",
   "id": "638e3fea",
   "metadata": {
    "papermill": {
     "duration": 0.022643,
     "end_time": "2023-06-01T14:21:37.223348",
     "exception": false,
     "start_time": "2023-06-01T14:21:37.200705",
     "status": "completed"
    },
    "tags": []
   },
   "source": [
    "***Let's try to figure out if there is any correlation between the prices and the quantity bought***\n"
   ]
  },
  {
   "cell_type": "code",
   "execution_count": 48,
   "id": "17dfebb6",
   "metadata": {
    "execution": {
     "iopub.execute_input": "2023-06-01T14:21:37.268821Z",
     "iopub.status.busy": "2023-06-01T14:21:37.268525Z",
     "iopub.status.idle": "2023-06-01T14:21:37.863076Z",
     "shell.execute_reply": "2023-06-01T14:21:37.861404Z"
    },
    "papermill": {
     "duration": 0.619877,
     "end_time": "2023-06-01T14:21:37.865363",
     "exception": false,
     "start_time": "2023-06-01T14:21:37.245486",
     "status": "completed"
    },
    "tags": []
   },
   "outputs": [
    {
     "name": "stderr",
     "output_type": "stream",
     "text": [
      "/tmp/ipykernel_21/234112569.py:2: MatplotlibDeprecationWarning: The seaborn styles shipped by Matplotlib are deprecated since 3.6, as they no longer correspond to the styles shipped by seaborn. However, they will remain available as 'seaborn-v0_8-<style>'. Alternatively, directly use the seaborn API instead.\n",
      "  plt.style.use('seaborn')\n"
     ]
    },
    {
     "data": {
      "image/png": "[encoded data removed]",
      "text/plain": [
       "<Figure size 1200x800 with 2 Axes>"
      ]
     },
     "metadata": {},
     "output_type": "display_data"
    }
   ],
   "source": [
    "# Set the style of the chart\n",
    "plt.style.use('seaborn')\n",
    "\n",
    "# Create a figure and axes for the bar graph\n",
    "fig, (ax1, ax2) = plt.subplots(nrows=2, sharex=True, figsize=(12, 8))\n",
    "\n",
    "# Set the x-axis values and the corresponding heights for the bar graph\n",
    "x_values = top_products_sold['Product']\n",
    "y_values = top_products_sold['Quantity Ordered']\n",
    "\n",
    "# Create an array of colors for the bars\n",
    "colors = plt.cm.Set3(np.arange(len(x_values)))\n",
    "\n",
    "# Create the bar chart with colored bars\n",
    "ax1.bar(x_values, y_values, color=colors, label='Quantity Ordered')\n",
    "\n",
    "# Add labels to the bars\n",
    "for i, v in enumerate(y_values):\n",
    "    ax1.text(i, v, str(round(v, 2)), ha='center', va='bottom', fontweight='bold')\n",
    "\n",
    "# Set labels and title for the bar graph\n",
    "ax1.set_ylabel('Quantity Ordered', fontweight='bold')\n",
    "ax1.set_title('Top 20 Products Sold', fontweight='bold')\n",
    "\n",
    "# Plot the line graph for mean prices\n",
    "mean_prices = sales.groupby('Product')['Price Each'].mean().loc[top_products_sold['Product']]\n",
    "ax2.plot(mean_prices.index, mean_prices.values, color='red', linewidth=2)\n",
    "\n",
    "# Set ylabel and intervals for the line graph y-axis\n",
    "ax2.set_ylabel('Mean Price', fontweight='bold')\n",
    "ax2.tick_params(axis='y', colors='black')\n",
    "\n",
    "# Adjust the spacing and rotation of x-axis labels\n",
    "plt.xticks(rotation=45, ha='right')\n",
    "plt.subplots_adjust(bottom=0.3)\n",
    "\n",
    "# Display the chart\n",
    "plt.tight_layout()\n",
    "plt.show()\n"
   ]
  },
  {
   "cell_type": "markdown",
   "id": "79168b75",
   "metadata": {
    "papermill": {
     "duration": 0.023621,
     "end_time": "2023-06-01T14:21:37.912890",
     "exception": false,
     "start_time": "2023-06-01T14:21:37.889269",
     "status": "completed"
    },
    "tags": []
   },
   "source": [
    "***So, this does show a certain level of correlation as the the quantites more sold are of very less prices like batteries, charging cable etc.***\n",
    "\n",
    "***A little inconsitency can be seen with the MacBook Pro and Thinkpad. Even with higher prices than LG Washing Machines they are demanded more.***\n",
    "\n",
    "***Might be that there are more college or universities near the store and hence more students resulting in this. Or due to the fact that people don't change there washing machines as often they change there phones and laptops***"
   ]
  }
 ],
 "metadata": {
  "kernelspec": {
   "display_name": "Python 3",
   "language": "python",
   "name": "python3"
  },
  "language_info": {
   "codemirror_mode": {
    "name": "ipython",
    "version": 3
   },
   "file_extension": ".py",
   "mimetype": "text/x-python",
   "name": "python",
   "nbconvert_exporter": "python",
   "pygments_lexer": "ipython3",
   "version": "3.10.10"
  },
  "papermill": {
   "default_parameters": {},
   "duration": 39.091098,
   "end_time": "2023-06-01T14:21:38.957856",
   "environment_variables": {},
   "exception": null,
   "input_path": "__notebook__.ipynb",
   "output_path": "__notebook__.ipynb",
   "parameters": {},
   "start_time": "2023-06-01T14:20:59.866758",
   "version": "2.4.0"
  }
 },
 "nbformat": 4,
 "nbformat_minor": 5
}
